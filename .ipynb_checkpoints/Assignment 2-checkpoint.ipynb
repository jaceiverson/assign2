{
 "cells": [
  {
   "cell_type": "code",
   "execution_count": null,
   "metadata": {},
   "outputs": [],
   "source": [
    "\"\"\"\n",
    "FIN 5350- Homework 2\n",
    "Tyler J. Brough\n",
    "October 16, 2019\n",
    "Numerical Problems\n",
    "Please complete the following numerical problems by hand (or in a Rmd document like this one).\n",
    "\n",
    "Problem 1\n",
    "Let S=$100, K=$105, r=8%, T=0.5, and δ=0.0. Let u=1.3, d=0.8, and n=1.\n",
    "\n",
    "Problem 2\n",
    "Let S=$100, K=$95, r=8%, T=0.5, and δ=0.0. Let u=1.3, d=0.8, and n=1.\n",
    "\n",
    "Problem 3\n",
    "Let S=$100, K=$95, σ=30%, r=8%, T=1, and δ=0.0. Let u=1.3, d=0.8, and n=2. Construct the binomial tree for a call option. At each node provide the premium, Δ, and B.\n",
    "\n",
    "Problem 4\n",
    "Repeat the option price calculation in the previous question for stock prices of $80, $90, $110, $120, and $130, but now let n=3. Keep everyting else fixed. What happens to the initial option Δ as the stock price increases?\n",
    "\n",
    "Problem 5\n",
    "Let S=$100, K=$95, r=8% (continuously compounded), σ=30%, δ=0, and T=1 year and n=3.\n",
    "\n",
    "Problem 6\n",
    "Let S=$40, K=$40, r=8% (continuously compounded), σ=30%, δ=0.0, T=0.5 year, and n=3.\n",
    "\n",
    "\"\"\""
   ]
  },
  {
   "cell_type": "code",
   "execution_count": 6,
   "metadata": {},
   "outputs": [],
   "source": [
    "import numpy as np\n",
    "from scipy.stats import binom"
   ]
  },
  {
   "cell_type": "code",
   "execution_count": 7,
   "metadata": {},
   "outputs": [],
   "source": [
    "def callPay(spot, strike):\n",
    "    return np.maximum(spot-strike,0.0)"
   ]
  },
  {
   "cell_type": "code",
   "execution_count": 8,
   "metadata": {},
   "outputs": [],
   "source": [
    "def putPay(spot,strike):\n",
    "    return np.maximum(strike-spot,0.0)"
   ]
  },
  {
   "cell_type": "code",
   "execution_count": 12,
   "metadata": {},
   "outputs": [],
   "source": [
    "\"\"\"Problem 1\n",
    "Let S=$100, K=$105, r=8%, T=0.5, and δ=0.0. Let u=1.3, d=0.8, and n=1.\"\"\"\n",
    "spot=100\n",
    "strike=105\n",
    "rate=.08\n",
    "exp=.5\n",
    "delta=0\n",
    "u=1.3\n",
    "d=.8\n",
    "n=1"
   ]
  },
  {
   "cell_type": "code",
   "execution_count": 31,
   "metadata": {},
   "outputs": [],
   "source": [
    "def singlePeriod(spot, strike, rate, exp, u, d, port):\n",
    "    if port==\"P\":\n",
    "        Cu=putPay(u*spot, strike)\n",
    "        Cd=putPay(d*spot, strike)\n",
    "    elif port==\"C\":\n",
    "        Cu=callPay(u*spot, strike)\n",
    "        Cd=callPay(d*spot, strike)\n",
    "    else:\n",
    "        raise Exception(\"You need to specificy call or put\")\n",
    "        \n",
    "    delta=(Cu-Cd)/(spot*(u-d))\n",
    "    B=np.exp(-rate*exp)*((u*Cd-d*Cu)/(u-d))\n",
    "    \n",
    "    #print(f'This is a {port}, B: {B:.2f},  delta: {delta: .2f},  price: {delta*spot+B: .2f}')\n",
    "    \n",
    "    return delta*spot+B, delta,B"
   ]
  },
  {
   "cell_type": "markdown",
   "metadata": {},
   "source": [
    "## Problem 1"
   ]
  },
  {
   "cell_type": "code",
   "execution_count": 32,
   "metadata": {},
   "outputs": [
    {
     "name": "stdout",
     "output_type": "stream",
     "text": [
      "For a put: Premium: 12.45, Delta: -0.50, Beta: 62.45\n",
      "For a call: Premium: 11.57, Delta: 0.50, Beta: -38.43\n"
     ]
    }
   ],
   "source": [
    "putPrice=singlePeriod(spot, strike, rate, exp, u, d,\"P\")\n",
    "callPrice=singlePeriod(spot,strike,rate,exp,u,d,\"C\")\n",
    "print(f'For a put: Premium: {putPrice[0]:.2f}, Delta: {putPrice[1]:.2f}, Beta: {putPrice[2]:.2f}')\n",
    "print(f'For a call: Premium: {callPrice[0]:.2f}, Delta: {callPrice[1]:.2f}, Beta: {callPrice[2]:.2f}')"
   ]
  },
  {
   "cell_type": "markdown",
   "metadata": {},
   "source": [
    "## Problem 2"
   ]
  },
  {
   "cell_type": "code",
   "execution_count": 33,
   "metadata": {},
   "outputs": [],
   "source": [
    "spot=100\n",
    "strike=95\n",
    "rate=.08\n",
    "exp=.5\n",
    "u=1.3\n",
    "d=.8\n",
    "n=3"
   ]
  },
  {
   "cell_type": "code",
   "execution_count": 50,
   "metadata": {},
   "outputs": [
    {
     "name": "stdout",
     "output_type": "stream",
     "text": [
      "Our put price is 7.47\n",
      "\n",
      "You see a call price of $17, the arbitrage is: \n",
      "1)write the call\n",
      "2)buy 70.00 in stock\n",
      "3)borrow 53.80 in cash\n",
      "\n",
      "You see a call price of $15.50, the arbitrage is:1)buy the call\n",
      "2)short 70.00 in stock\n",
      "3)lend 53.80 in cash\n",
      "\n"
     ]
    }
   ],
   "source": [
    "putPrice2=singlePeriod(spot, strike, rate, exp, u, d,\"P\")\n",
    "callPrice2=singlePeriod(spot, strike, rate, exp, u, d,\"C\")\n",
    "print(f'Our put price is {putPrice2[0]:.2f}\\n')\n",
    "print(f'You see a call price of $17, the arbitrage is: \\n'\n",
    "      f'1)write the call\\n'\n",
    "      f'2)buy {spot*callPrice2[1]:.2f} in stock\\n'\n",
    "      f'3)borrow {-1*callPrice2[2]:.2f} in cash\\n\\n'\n",
    "      f'You see a call price of $15.50, the arbitrage is:'\n",
    "      f'1)buy the call\\n'\n",
    "      f'2)short {spot*callPrice2[1]:.2f} in stock\\n'\n",
    "      f'3)lend {-1*callPrice2[2]:.2f} in cash\\n')\n"
   ]
  },
  {
   "cell_type": "code",
   "execution_count": 41,
   "metadata": {},
   "outputs": [
    {
     "name": "stdout",
     "output_type": "stream",
     "text": [
      "(16.195791407469905, 0.7, -53.804208592530095)\n"
     ]
    }
   ],
   "source": [
    "print(callPrice2)"
   ]
  },
  {
   "cell_type": "code",
   "execution_count": 51,
   "metadata": {},
   "outputs": [],
   "source": [
    "twoPeriod=singlePeriod(spot,strike,rate,exp,u,d,\"C\")"
   ]
  },
  {
   "cell_type": "code",
   "execution_count": 52,
   "metadata": {},
   "outputs": [],
   "source": [
    "n=2\n",
    "u=1.2\n",
    "d=.75\n",
    "s=100\n",
    "numbers=[]\n",
    "tree={}\n",
    "for x in range(n):\n",
    "    if x<1:\n",
    "        numbers.append(s*u)\n",
    "    else:\n",
    "        numbers.append(s*d)\n",
    "    \n"
   ]
  },
  {
   "cell_type": "code",
   "execution_count": 53,
   "metadata": {},
   "outputs": [],
   "source": [
    "steps=3\n",
    "nodes=steps+1\n",
    "spot=[80,90,110,120,130]\n",
    "strike=95\n",
    "rate=.08\n",
    "exp=1\n",
    "vol=.3\n",
    "u=1.3\n",
    "d=.8\n",
    "callT=0\n",
    "h=exp/steps\n",
    "pstar = (np.exp(rate*h)-d)/(u-d)\n",
    "#pstar = (e^rt - d)/u-d\n"
   ]
  },
  {
   "cell_type": "code",
   "execution_count": 54,
   "metadata": {},
   "outputs": [],
   "source": [
    "#this is going to create the last nodes of our tree and we can put them into a list\n",
    "finalPrices=[]\n",
    "delta=[]\n",
    "\n",
    "for y in spot:\n",
    "    callT=0\n",
    "    for x in range(nodes):\n",
    "        spotT=(y*(u**(steps-x))*(d**(x)))\n",
    "        #price of the call = e^-rt * [(pstar*Cu) +() + (pstar*Cd)]\n",
    "        callT+=callPay(spotT,strike)*binom.pmf(steps-x, steps, pstar)\n",
    "    finalPrices.append(callT)\n"
   ]
  },
  {
   "cell_type": "code",
   "execution_count": 55,
   "metadata": {},
   "outputs": [
    {
     "name": "stdout",
     "output_type": "stream",
     "text": [
      "If your spot price is $ 80.00, your call price would be $ 12.00\n",
      "If your spot price is $ 90.00, your call price would be $ 18.63\n",
      "If your spot price is $ 110.00, your call price would be $ 31.87\n",
      "If your spot price is $ 120.00, your call price would be $ 40.46\n",
      "If your spot price is $ 130.00, your call price would be $ 50.46\n"
     ]
    }
   ],
   "source": [
    "for x in range(len(spot)):\n",
    "    print(f'If your spot price is ${spot[x]: .2f}, your call price would be ${finalPrices[x]: .2f}')"
   ]
  },
  {
   "cell_type": "code",
   "execution_count": 56,
   "metadata": {},
   "outputs": [
    {
     "name": "stdout",
     "output_type": "stream",
     "text": [
      "As spot price increases, delta converges to 1\n"
     ]
    }
   ],
   "source": [
    "for x in spot:\n",
    "    singlePeriod(x, strike, rate, exp, u, d, \"C\")\n",
    "    \n",
    "print(f'As spot price increases, delta converges to 1')"
   ]
  },
  {
   "cell_type": "code",
   "execution_count": 78,
   "metadata": {},
   "outputs": [
    {
     "name": "stdout",
     "output_type": "stream",
     "text": [
      "3\n",
      "219.70000000000002\n",
      "135.20000000000002\n",
      "83.20000000000002\n",
      "51.20000000000001\n",
      "2\n",
      "169.00000000000003\n",
      "104.0\n",
      "64.00000000000001\n",
      "1\n",
      "130.0\n",
      "80.0\n",
      "0\n",
      "100.0\n"
     ]
    }
   ],
   "source": [
    "steps=3\n",
    "spot=100\n",
    "nodes=[]\n",
    "deltas=[]\n",
    "betas=[]\n",
    "jeff={}\n",
    "#this will create our tree and put it into a dictionary\n",
    "for y in range(steps+1):\n",
    "    z=steps-y\n",
    "    print(z)\n",
    "    nodes=[]\n",
    "    deltas=[]\n",
    "    betas=[]\n",
    "    for x in range(z+1):\n",
    "        spotT=(spot*(u**(z-x))*(d**(x)))\n",
    "        delta=singlePeriod(spotT,strike,rate,exp,u,d,'C')\n",
    "        print(spotT)\n",
    "        nodes.append(spotT)\n",
    "        deltas.append(delta[1])\n",
    "        betas.append(delta[2])\n",
    "    jeff[z]={\"spot\":nodes,\"delta\":deltas,\"beta\":betas}"
   ]
  },
  {
   "cell_type": "code",
   "execution_count": 79,
   "metadata": {},
   "outputs": [
    {
     "name": "stdout",
     "output_type": "stream",
     "text": [
      "{0: {'beta': [-51.6945153976516], 'delta': [0.7], 'spot': [100.0]},\n",
      " 1: {'beta': [-87.6960529067304, -13.292875387967555],\n",
      "     'delta': [1.0, 0.225],\n",
      "     'spot': [130.0, 80.0]},\n",
      " 2: {'beta': [-87.69605290673043, -59.37484339958844, 0.0],\n",
      "     'delta': [1.0000000000000002, 0.7730769230769234, 0.0],\n",
      "     'spot': [169.00000000000003, 104.0, 64.00000000000001]},\n",
      " 3: {'beta': [-87.6960529067304, -87.69605290673037, -19.43713778951704, 0.0],\n",
      "     'delta': [0.9999999999999999, 0.9999999999999998, 0.3163461538461544, 0.0],\n",
      "     'spot': [219.70000000000002,\n",
      "              135.20000000000002,\n",
      "              83.20000000000002,\n",
      "              51.20000000000001]}}\n"
     ]
    }
   ],
   "source": [
    "import pprint as pp\n",
    "pp.pprint(jeff)"
   ]
  },
  {
   "cell_type": "code",
   "execution_count": 93,
   "metadata": {},
   "outputs": [
    {
     "data": {
      "text/plain": [
       "[219.70000000000002, 135.20000000000002, 83.20000000000002, 51.20000000000001]"
      ]
     },
     "execution_count": 93,
     "metadata": {},
     "output_type": "execute_result"
    }
   ],
   "source": [
    "jeff[3]['spot']"
   ]
  },
  {
   "cell_type": "code",
   "execution_count": 112,
   "metadata": {},
   "outputs": [
    {
     "name": "stdout",
     "output_type": "stream",
     "text": [
      "219.70000000000002 0.9999999999999999 -87.6960529067304\n",
      "135.20000000000002 0.9999999999999998 -87.69605290673037\n",
      "83.20000000000002 0.3163461538461544 -19.43713778951704\n",
      "169.00000000000003 1.0000000000000002 -87.69605290673043\n",
      "104.0 0.7730769230769234 -59.37484339958844\n",
      "130.0 1.0 -87.6960529067304\n"
     ]
    }
   ],
   "source": [
    "#this is the each node and then each Spot, Delta, and Beta\n",
    "for x in jeff:\n",
    "    for y in range(x):\n",
    "        print(jeff[x]['spot'][y]\n",
    "              ,jeff[x]['delta'][y]\n",
    "              ,jeff[x]['beta'][y] )"
   ]
  },
  {
   "cell_type": "code",
   "execution_count": 99,
   "metadata": {},
   "outputs": [
    {
     "name": "stdout",
     "output_type": "stream",
     "text": [
      "spot\n",
      "delta\n",
      "beta\n",
      "3\n",
      "spot\n",
      "delta\n",
      "beta\n",
      "2\n",
      "spot\n",
      "delta\n",
      "beta\n",
      "1\n",
      "spot\n",
      "delta\n",
      "beta\n",
      "0\n"
     ]
    }
   ],
   "source": [
    "for y in jeff.keys():\n",
    "    for x in jeff.get(y):\n",
    "        print(x)\n",
    "    print(y)"
   ]
  },
  {
   "cell_type": "code",
   "execution_count": 100,
   "metadata": {},
   "outputs": [
    {
     "data": {
      "text/plain": [
       "dict_items([(3, {'spot': [219.70000000000002, 135.20000000000002, 83.20000000000002, 51.20000000000001], 'delta': [0.9999999999999999, 0.9999999999999998, 0.3163461538461544, 0.0], 'beta': [-87.6960529067304, -87.69605290673037, -19.43713778951704, 0.0]}), (2, {'spot': [169.00000000000003, 104.0, 64.00000000000001], 'delta': [1.0000000000000002, 0.7730769230769234, 0.0], 'beta': [-87.69605290673043, -59.37484339958844, 0.0]}), (1, {'spot': [130.0, 80.0], 'delta': [1.0, 0.225], 'beta': [-87.6960529067304, -13.292875387967555]}), (0, {'spot': [100.0], 'delta': [0.7], 'beta': [-51.6945153976516]})])"
      ]
     },
     "execution_count": 100,
     "metadata": {},
     "output_type": "execute_result"
    }
   ],
   "source": [
    "jeff.items()"
   ]
  },
  {
   "cell_type": "code",
   "execution_count": 101,
   "metadata": {},
   "outputs": [
    {
     "data": {
      "text/plain": [
       "dict_values([{'spot': [219.70000000000002, 135.20000000000002, 83.20000000000002, 51.20000000000001], 'delta': [0.9999999999999999, 0.9999999999999998, 0.3163461538461544, 0.0], 'beta': [-87.6960529067304, -87.69605290673037, -19.43713778951704, 0.0]}, {'spot': [169.00000000000003, 104.0, 64.00000000000001], 'delta': [1.0000000000000002, 0.7730769230769234, 0.0], 'beta': [-87.69605290673043, -59.37484339958844, 0.0]}, {'spot': [130.0, 80.0], 'delta': [1.0, 0.225], 'beta': [-87.6960529067304, -13.292875387967555]}, {'spot': [100.0], 'delta': [0.7], 'beta': [-51.6945153976516]}])"
      ]
     },
     "execution_count": 101,
     "metadata": {},
     "output_type": "execute_result"
    }
   ],
   "source": [
    "jeff.values()"
   ]
  },
  {
   "cell_type": "code",
   "execution_count": null,
   "metadata": {},
   "outputs": [],
   "source": []
  }
 ],
 "metadata": {
  "kernelspec": {
   "display_name": "Python 3",
   "language": "python",
   "name": "python3"
  },
  "language_info": {
   "codemirror_mode": {
    "name": "ipython",
    "version": 3
   },
   "file_extension": ".py",
   "mimetype": "text/x-python",
   "name": "python",
   "nbconvert_exporter": "python",
   "pygments_lexer": "ipython3",
   "version": "3.7.1"
  }
 },
 "nbformat": 4,
 "nbformat_minor": 2
}
