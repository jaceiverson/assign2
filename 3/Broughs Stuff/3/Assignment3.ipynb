{
 "cells": [
  {
   "cell_type": "code",
   "execution_count": 1,
   "metadata": {},
   "outputs": [],
   "source": [
    "import numpy as np\n",
    "import pricers\n",
    "import option\n",
    "import pandas as pd\n",
    "import scipy.stats as stats\n",
    "import matplotlib.pyplot as plt"
   ]
  },
  {
   "cell_type": "code",
   "execution_count": 2,
   "metadata": {},
   "outputs": [],
   "source": [
    "S = 41.0\n",
    "K = 40.0\n",
    "r = 0.08\n",
    "v = 0.30\n",
    "q = 0.0\n",
    "T = 1.0\n",
    "M = 10000 # number of MC replications\n",
    "N = 252   # number of MC steps in a particular path"
   ]
  },
  {
   "cell_type": "markdown",
   "metadata": {},
   "source": [
    "## Problem 1"
   ]
  },
  {
   "cell_type": "code",
   "execution_count": 3,
   "metadata": {},
   "outputs": [
    {
     "name": "stdout",
     "output_type": "stream",
     "text": [
      "European Call: price is 6.95 and standard error is 0.08\n"
     ]
    }
   ],
   "source": [
    "theCall=option.VanillaOption(K,T,option.call_payoff)\n",
    "\n",
    "callPrc=pricers.naive_monte_carlo_pricer(theCall,r,v,q,S,M)\n",
    "\n",
    "print(f'European Call: price is {callPrc.price:.2f} and standard error is {callPrc.stderr:.2f}')"
   ]
  },
  {
   "cell_type": "code",
   "execution_count": 4,
   "metadata": {},
   "outputs": [
    {
     "name": "stdout",
     "output_type": "stream",
     "text": [
      "European Put: price is 2.86 and standard error is 0.03\n"
     ]
    }
   ],
   "source": [
    "thePut=option.VanillaOption(K,T,option.put_payoff)\n",
    "\n",
    "putPrc=pricers.naive_monte_carlo_pricer(thePut,r,v,q,S,M)\n",
    "print(f'European Put: price is {putPrc.price:.2f} and standard error is {putPrc.stderr:.2f}')"
   ]
  },
  {
   "cell_type": "code",
   "execution_count": 5,
   "metadata": {},
   "outputs": [],
   "source": [
    "Mlist=[1000,10000,25000,50000,75000,100000]"
   ]
  },
  {
   "cell_type": "code",
   "execution_count": 6,
   "metadata": {},
   "outputs": [],
   "source": [
    "theCall=option.VanillaOption(K,T,option.call_payoff)\n",
    "MCstuff={}\n",
    "for values in Mlist:\n",
    "    MCstuff[values]=pricers.naive_monte_carlo_pricer(theCall,r,v,q,S,values)"
   ]
  },
  {
   "cell_type": "markdown",
   "metadata": {},
   "source": [
    "### Answer p1"
   ]
  },
  {
   "cell_type": "code",
   "execution_count": 7,
   "metadata": {},
   "outputs": [
    {
     "name": "stdout",
     "output_type": "stream",
     "text": [
      "For 1000 iterations. We got a price of $7.21 and a standard error or 0.25.\n",
      "For 10000 iterations. We got a price of $6.93 and a standard error or 0.08.\n",
      "For 25000 iterations. We got a price of $7.03 and a standard error or 0.05.\n",
      "For 50000 iterations. We got a price of $6.91 and a standard error or 0.03.\n",
      "For 75000 iterations. We got a price of $6.93 and a standard error or 0.03.\n",
      "For 100000 iterations. We got a price of $6.97 and a standard error or 0.02.\n"
     ]
    }
   ],
   "source": [
    "for x in MCstuff:\n",
    "    print(f'For {x} iterations. We got a price of ${MCstuff[x][0]:.2f} and a standard error or {MCstuff[x][1]:.2f}.')"
   ]
  },
  {
   "cell_type": "code",
   "execution_count": 8,
   "metadata": {},
   "outputs": [],
   "source": [
    "table=pd.DataFrame(MCstuff)"
   ]
  },
  {
   "cell_type": "code",
   "execution_count": 9,
   "metadata": {},
   "outputs": [],
   "source": [
    "mc=table.T.rename(columns={0:'MC Price',1:'MC stder'})"
   ]
  },
  {
   "cell_type": "markdown",
   "metadata": {},
   "source": [
    "# Problem 2"
   ]
  },
  {
   "cell_type": "code",
   "execution_count": 10,
   "metadata": {},
   "outputs": [
    {
     "name": "stdout",
     "output_type": "stream",
     "text": [
      "European Call: price is 6.96 and standard error is 0.08\n"
     ]
    }
   ],
   "source": [
    "theCall2=option.VanillaOption(K,T,option.call_payoff)\n",
    "\n",
    "callPrc2=pricers.antithetic_monte_carlo_pricer(theCall2,r,v,q,S,M)\n",
    "\n",
    "print(f'European Call: price is {callPrc2.price:.2f} and standard error is {callPrc2.stderr:.2f}')"
   ]
  },
  {
   "cell_type": "code",
   "execution_count": 11,
   "metadata": {},
   "outputs": [
    {
     "name": "stdout",
     "output_type": "stream",
     "text": [
      "European Put: price is 2.88 and standard error is 0.03\n"
     ]
    }
   ],
   "source": [
    "thePut2=option.VanillaOption(K,T,option.put_payoff)\n",
    "\n",
    "putPrc2=pricers.antithetic_monte_carlo_pricer(thePut2,r,v,q,S,M)\n",
    "print(f'European Put: price is {putPrc2.price:.2f} and standard error is {putPrc2.stderr:.2f}')"
   ]
  },
  {
   "cell_type": "code",
   "execution_count": 12,
   "metadata": {},
   "outputs": [
    {
     "name": "stdout",
     "output_type": "stream",
     "text": [
      "For 1000 iterations. We got a price of $7.02 and a standard error or 0.24.\n",
      "For 10000 iterations. We got a price of $7.03 and a standard error or 0.08.\n",
      "For 25000 iterations. We got a price of $7.02 and a standard error or 0.05.\n",
      "For 50000 iterations. We got a price of $6.95 and a standard error or 0.03.\n",
      "For 75000 iterations. We got a price of $6.97 and a standard error or 0.03.\n",
      "For 100000 iterations. We got a price of $6.96 and a standard error or 0.02.\n"
     ]
    }
   ],
   "source": [
    "theCall2=option.VanillaOption(K,T,option.call_payoff)\n",
    "MCstuff2={}\n",
    "\n",
    "for values in Mlist:\n",
    "    MCstuff2[values]=pricers.antithetic_monte_carlo_pricer(theCall2,r,v,q,S,values)\n",
    "\n",
    "for x in MCstuff2:\n",
    "    print(f'For {x} iterations. We got a price of ${MCstuff2[x][0]:.2f} and a standard error or {MCstuff2[x][1]:.2f}.')"
   ]
  },
  {
   "cell_type": "code",
   "execution_count": 13,
   "metadata": {},
   "outputs": [],
   "source": [
    "table=pd.DataFrame(MCstuff2)\n",
    "anti=table.T.rename(columns={0:'Anti Price',1:'Anti stder'})"
   ]
  },
  {
   "cell_type": "code",
   "execution_count": 20,
   "metadata": {},
   "outputs": [
    {
     "data": {
      "text/html": [
       "<div>\n",
       "<style scoped>\n",
       "    .dataframe tbody tr th:only-of-type {\n",
       "        vertical-align: middle;\n",
       "    }\n",
       "\n",
       "    .dataframe tbody tr th {\n",
       "        vertical-align: top;\n",
       "    }\n",
       "\n",
       "    .dataframe thead th {\n",
       "        text-align: right;\n",
       "    }\n",
       "</style>\n",
       "<table border=\"1\" class=\"dataframe\">\n",
       "  <thead>\n",
       "    <tr style=\"text-align: right;\">\n",
       "      <th></th>\n",
       "      <th>MC Price</th>\n",
       "      <th>MC stder</th>\n",
       "      <th>Anti Price</th>\n",
       "      <th>Anti stder</th>\n",
       "    </tr>\n",
       "  </thead>\n",
       "  <tbody>\n",
       "    <tr>\n",
       "      <th>1000</th>\n",
       "      <td>7.206074</td>\n",
       "      <td>0.246855</td>\n",
       "      <td>7.015596</td>\n",
       "      <td>0.240330</td>\n",
       "    </tr>\n",
       "    <tr>\n",
       "      <th>10000</th>\n",
       "      <td>6.928028</td>\n",
       "      <td>0.075050</td>\n",
       "      <td>7.025075</td>\n",
       "      <td>0.076102</td>\n",
       "    </tr>\n",
       "    <tr>\n",
       "      <th>25000</th>\n",
       "      <td>7.033462</td>\n",
       "      <td>0.048188</td>\n",
       "      <td>7.016534</td>\n",
       "      <td>0.048072</td>\n",
       "    </tr>\n",
       "    <tr>\n",
       "      <th>50000</th>\n",
       "      <td>6.909086</td>\n",
       "      <td>0.033472</td>\n",
       "      <td>6.948007</td>\n",
       "      <td>0.033660</td>\n",
       "    </tr>\n",
       "    <tr>\n",
       "      <th>75000</th>\n",
       "      <td>6.931966</td>\n",
       "      <td>0.027420</td>\n",
       "      <td>6.970236</td>\n",
       "      <td>0.027572</td>\n",
       "    </tr>\n",
       "    <tr>\n",
       "      <th>100000</th>\n",
       "      <td>6.973688</td>\n",
       "      <td>0.023889</td>\n",
       "      <td>6.958405</td>\n",
       "      <td>0.023837</td>\n",
       "    </tr>\n",
       "  </tbody>\n",
       "</table>\n",
       "</div>"
      ],
      "text/plain": [
       "        MC Price  MC stder  Anti Price  Anti stder\n",
       "1000    7.206074  0.246855    7.015596    0.240330\n",
       "10000   6.928028  0.075050    7.025075    0.076102\n",
       "25000   7.033462  0.048188    7.016534    0.048072\n",
       "50000   6.909086  0.033472    6.948007    0.033660\n",
       "75000   6.931966  0.027420    6.970236    0.027572\n",
       "100000  6.973688  0.023889    6.958405    0.023837"
      ]
     },
     "execution_count": 20,
     "metadata": {},
     "output_type": "execute_result"
    }
   ],
   "source": [
    "prob2=mc.join(anti)\n",
    "prob2"
   ]
  },
  {
   "cell_type": "markdown",
   "metadata": {},
   "source": [
    "# Problem 3"
   ]
  },
  {
   "cell_type": "code",
   "execution_count": 15,
   "metadata": {},
   "outputs": [
    {
     "name": "stdout",
     "output_type": "stream",
     "text": [
      "For 1000 iterations. We got a price of $6.97 and a standard error or 0.24.\n",
      "For 10000 iterations. We got a price of $6.96 and a standard error or 0.08.\n",
      "For 25000 iterations. We got a price of $6.96 and a standard error or 0.05.\n",
      "For 50000 iterations. We got a price of $6.96 and a standard error or 0.03.\n",
      "For 75000 iterations. We got a price of $6.96 and a standard error or 0.03.\n",
      "For 100000 iterations. We got a price of $6.96 and a standard error or 0.02.\n"
     ]
    }
   ],
   "source": [
    "theCall3=option.VanillaOption(K,T,option.call_payoff)\n",
    "MCstuff3={}\n",
    "\n",
    "for values in Mlist:\n",
    "    MCstuff3[values]=pricers.stratifiedSample(theCall3,r,v,q,S,values)\n",
    "\n",
    "for x in MCstuff3:\n",
    "    print(f'For {x} iterations. We got a price of ${MCstuff3[x][0]:.2f} and a standard error or {MCstuff3[x][1]:.2f}.')"
   ]
  },
  {
   "cell_type": "code",
   "execution_count": 16,
   "metadata": {},
   "outputs": [
    {
     "data": {
      "text/html": [
       "<div>\n",
       "<style scoped>\n",
       "    .dataframe tbody tr th:only-of-type {\n",
       "        vertical-align: middle;\n",
       "    }\n",
       "\n",
       "    .dataframe tbody tr th {\n",
       "        vertical-align: top;\n",
       "    }\n",
       "\n",
       "    .dataframe thead th {\n",
       "        text-align: right;\n",
       "    }\n",
       "</style>\n",
       "<table border=\"1\" class=\"dataframe\">\n",
       "  <thead>\n",
       "    <tr style=\"text-align: right;\">\n",
       "      <th></th>\n",
       "      <th>Strat Price</th>\n",
       "      <th>Strat stder</th>\n",
       "    </tr>\n",
       "  </thead>\n",
       "  <tbody>\n",
       "    <tr>\n",
       "      <th>1000</th>\n",
       "      <td>6.968349</td>\n",
       "      <td>0.238712</td>\n",
       "    </tr>\n",
       "    <tr>\n",
       "      <th>10000</th>\n",
       "      <td>6.960461</td>\n",
       "      <td>0.075402</td>\n",
       "    </tr>\n",
       "    <tr>\n",
       "      <th>25000</th>\n",
       "      <td>6.960667</td>\n",
       "      <td>0.047690</td>\n",
       "    </tr>\n",
       "    <tr>\n",
       "      <th>50000</th>\n",
       "      <td>6.961218</td>\n",
       "      <td>0.033724</td>\n",
       "    </tr>\n",
       "    <tr>\n",
       "      <th>75000</th>\n",
       "      <td>6.960929</td>\n",
       "      <td>0.027535</td>\n",
       "    </tr>\n",
       "    <tr>\n",
       "      <th>100000</th>\n",
       "      <td>6.960956</td>\n",
       "      <td>0.023846</td>\n",
       "    </tr>\n",
       "  </tbody>\n",
       "</table>\n",
       "</div>"
      ],
      "text/plain": [
       "        Strat Price  Strat stder\n",
       "1000       6.968349     0.238712\n",
       "10000      6.960461     0.075402\n",
       "25000      6.960667     0.047690\n",
       "50000      6.961218     0.033724\n",
       "75000      6.960929     0.027535\n",
       "100000     6.960956     0.023846"
      ]
     },
     "execution_count": 16,
     "metadata": {},
     "output_type": "execute_result"
    }
   ],
   "source": [
    "table=pd.DataFrame(MCstuff3)\n",
    "strat=table.T.rename(columns={0:'Strat Price',1:'Strat stder'})"
   ]
  },
  {
   "cell_type": "code",
   "execution_count": 30,
   "metadata": {},
   "outputs": [
    {
     "data": {
      "text/html": [
       "<div>\n",
       "<style scoped>\n",
       "    .dataframe tbody tr th:only-of-type {\n",
       "        vertical-align: middle;\n",
       "    }\n",
       "\n",
       "    .dataframe tbody tr th {\n",
       "        vertical-align: top;\n",
       "    }\n",
       "\n",
       "    .dataframe thead th {\n",
       "        text-align: right;\n",
       "    }\n",
       "</style>\n",
       "<table border=\"1\" class=\"dataframe\">\n",
       "  <thead>\n",
       "    <tr style=\"text-align: right;\">\n",
       "      <th></th>\n",
       "      <th>MC Price</th>\n",
       "      <th>MC stder</th>\n",
       "      <th>Anti Price</th>\n",
       "      <th>Anti stder</th>\n",
       "      <th>Strat Price</th>\n",
       "      <th>Strat stder</th>\n",
       "    </tr>\n",
       "  </thead>\n",
       "  <tbody>\n",
       "    <tr>\n",
       "      <th>1000</th>\n",
       "      <td>7.206074</td>\n",
       "      <td>0.246855</td>\n",
       "      <td>7.015596</td>\n",
       "      <td>0.240330</td>\n",
       "      <td>6.968349</td>\n",
       "      <td>0.238712</td>\n",
       "    </tr>\n",
       "    <tr>\n",
       "      <th>10000</th>\n",
       "      <td>6.928028</td>\n",
       "      <td>0.075050</td>\n",
       "      <td>7.025075</td>\n",
       "      <td>0.076102</td>\n",
       "      <td>6.960461</td>\n",
       "      <td>0.075402</td>\n",
       "    </tr>\n",
       "    <tr>\n",
       "      <th>25000</th>\n",
       "      <td>7.033462</td>\n",
       "      <td>0.048188</td>\n",
       "      <td>7.016534</td>\n",
       "      <td>0.048072</td>\n",
       "      <td>6.960667</td>\n",
       "      <td>0.047690</td>\n",
       "    </tr>\n",
       "    <tr>\n",
       "      <th>50000</th>\n",
       "      <td>6.909086</td>\n",
       "      <td>0.033472</td>\n",
       "      <td>6.948007</td>\n",
       "      <td>0.033660</td>\n",
       "      <td>6.961218</td>\n",
       "      <td>0.033724</td>\n",
       "    </tr>\n",
       "    <tr>\n",
       "      <th>75000</th>\n",
       "      <td>6.931966</td>\n",
       "      <td>0.027420</td>\n",
       "      <td>6.970236</td>\n",
       "      <td>0.027572</td>\n",
       "      <td>6.960929</td>\n",
       "      <td>0.027535</td>\n",
       "    </tr>\n",
       "    <tr>\n",
       "      <th>100000</th>\n",
       "      <td>6.973688</td>\n",
       "      <td>0.023889</td>\n",
       "      <td>6.958405</td>\n",
       "      <td>0.023837</td>\n",
       "      <td>6.960956</td>\n",
       "      <td>0.023846</td>\n",
       "    </tr>\n",
       "  </tbody>\n",
       "</table>\n",
       "</div>"
      ],
      "text/plain": [
       "        MC Price  MC stder  Anti Price  Anti stder  Strat Price  Strat stder\n",
       "1000    7.206074  0.246855    7.015596    0.240330     6.968349     0.238712\n",
       "10000   6.928028  0.075050    7.025075    0.076102     6.960461     0.075402\n",
       "25000   7.033462  0.048188    7.016534    0.048072     6.960667     0.047690\n",
       "50000   6.909086  0.033472    6.948007    0.033660     6.961218     0.033724\n",
       "75000   6.931966  0.027420    6.970236    0.027572     6.960929     0.027535\n",
       "100000  6.973688  0.023889    6.958405    0.023837     6.960956     0.023846"
      ]
     },
     "execution_count": 30,
     "metadata": {},
     "output_type": "execute_result"
    }
   ],
   "source": [
    "prob3=prob2.join(strat)\n",
    "prob3"
   ]
  },
  {
   "cell_type": "code",
   "execution_count": 26,
   "metadata": {},
   "outputs": [
    {
     "data": {
      "text/plain": [
       "MC Price       6.997050\n",
       "MC stder       0.075813\n",
       "Anti Price     6.988975\n",
       "Anti stder     0.074929\n",
       "Strat Price    6.962097\n",
       "Strat stder    0.074485\n",
       "dtype: float64"
      ]
     },
     "execution_count": 26,
     "metadata": {},
     "output_type": "execute_result"
    }
   ],
   "source": [
    "prob3.mean()"
   ]
  },
  {
   "cell_type": "code",
   "execution_count": null,
   "metadata": {},
   "outputs": [],
   "source": [
    "\"\"\"\n",
    "Observations\n",
    "1) Standard error is higher with smaller observations\n",
    "3) Stratified sampling reduces the standard error relative to naive pricing and antithetic sampling; \n",
    "   however, the difference between standard errors diminishes as the overall sample size increases. \n",
    "   For example, with 1,000 observations, the stratified sampling method reduces the standard error relative \n",
    "   to the naive pricer by 0.008143, but at 100,000 observations, the stratified sampling method reduces the \n",
    "   standard error relative to the naive pricer by only 0.000043.\n",
    "\"\"\""
   ]
  },
  {
   "cell_type": "code",
   "execution_count": null,
   "metadata": {},
   "outputs": [],
   "source": []
  }
 ],
 "metadata": {
  "kernelspec": {
   "display_name": "Python 3",
   "language": "python",
   "name": "python3"
  },
  "language_info": {
   "codemirror_mode": {
    "name": "ipython",
    "version": 3
   },
   "file_extension": ".py",
   "mimetype": "text/x-python",
   "name": "python",
   "nbconvert_exporter": "python",
   "pygments_lexer": "ipython3",
   "version": "3.7.4"
  }
 },
 "nbformat": 4,
 "nbformat_minor": 2
}
