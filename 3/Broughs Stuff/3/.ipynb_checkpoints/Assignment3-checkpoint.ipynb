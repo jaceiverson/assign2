{
 "cells": [
  {
   "cell_type": "code",
   "execution_count": 1,
   "metadata": {},
   "outputs": [],
   "source": [
    "import numpy as np\n",
    "import pricers\n",
    "import option"
   ]
  },
  {
   "cell_type": "code",
   "execution_count": 4,
   "metadata": {},
   "outputs": [],
   "source": [
    "S = 41.0\n",
    "K = 40.0\n",
    "r = 0.08\n",
    "v = 0.30\n",
    "q = 0.0\n",
    "T = 1.0\n",
    "M = 10000 # number of MC replications\n",
    "N = 252   # number of MC steps in a particular path"
   ]
  },
  {
   "cell_type": "markdown",
   "metadata": {},
   "source": [
    "## Problem 1"
   ]
  },
  {
   "cell_type": "code",
   "execution_count": 5,
   "metadata": {},
   "outputs": [
    {
     "name": "stdout",
     "output_type": "stream",
     "text": [
      "European Call: price is 7.09 and standard error is 0.08\n"
     ]
    }
   ],
   "source": [
    "theCall=option.VanillaOption(K,T,option.call_payoff)\n",
    "\n",
    "callPrc=pricers.naive_monte_carlo_pricer(theCall,r,v,q,S,M)\n",
    "\n",
    "print(f'European Call: price is {callPrc.price:.2f} and standard error is {callPrc.stderr:.2f}')"
   ]
  },
  {
   "cell_type": "code",
   "execution_count": 6,
   "metadata": {},
   "outputs": [
    {
     "name": "stdout",
     "output_type": "stream",
     "text": [
      "European Put: price is 2.85 and standard error is 0.03\n"
     ]
    }
   ],
   "source": [
    "thePut=option.VanillaOption(K,T,option.put_payoff)\n",
    "\n",
    "putPrc=pricers.naive_monte_carlo_pricer(thePut,r,v,q,S,M)\n",
    "print(f'European Put: price is {putPrc.price:.2f} and standard error is {putPrc.stderr:.2f}')"
   ]
  },
  {
   "cell_type": "code",
   "execution_count": 7,
   "metadata": {},
   "outputs": [],
   "source": [
    "Mlist=[1000,10000,25000,50000,75000,100000]"
   ]
  },
  {
   "cell_type": "code",
   "execution_count": 8,
   "metadata": {},
   "outputs": [],
   "source": [
    "theCall=option.VanillaOption(K,T,option.call_payoff)\n",
    "MCstuff={}\n",
    "for values in Mlist:\n",
    "    MCstuff[values]=pricers.naive_monte_carlo_pricer(theCall,r,v,q,S,values)"
   ]
  },
  {
   "cell_type": "markdown",
   "metadata": {},
   "source": [
    "### Answer p1"
   ]
  },
  {
   "cell_type": "code",
   "execution_count": 9,
   "metadata": {},
   "outputs": [
    {
     "name": "stdout",
     "output_type": "stream",
     "text": [
      "For 1000 iterations. We got a price of $6.85 and a standard error or 0.23.\n",
      "For 10000 iterations. We got a price of $7.01 and a standard error or 0.08.\n",
      "For 25000 iterations. We got a price of $6.93 and a standard error or 0.05.\n",
      "For 50000 iterations. We got a price of $6.95 and a standard error or 0.03.\n",
      "For 75000 iterations. We got a price of $6.98 and a standard error or 0.03.\n",
      "For 100000 iterations. We got a price of $6.94 and a standard error or 0.02.\n"
     ]
    }
   ],
   "source": [
    "for x in MCstuff:\n",
    "    print(f'For {x} iterations. We got a price of ${MCstuff[x][0]:.2f} and a standard error or {MCstuff[x][1]:.2f}.')"
   ]
  },
  {
   "cell_type": "markdown",
   "metadata": {},
   "source": [
    "# Problem 2"
   ]
  },
  {
   "cell_type": "code",
   "execution_count": 13,
   "metadata": {},
   "outputs": [
    {
     "name": "stdout",
     "output_type": "stream",
     "text": [
      "European Call: price is 6.99 and standard error is 0.08\n"
     ]
    }
   ],
   "source": [
    "theCall2=option.VanillaOption(K,T,option.call_payoff)\n",
    "\n",
    "callPrc2=pricers.antithetic_monte_carlo_pricer(theCall2,r,v,q,S,M)\n",
    "\n",
    "print(f'European Call: price is {callPrc2.price:.2f} and standard error is {callPrc2.stderr:.2f}')"
   ]
  },
  {
   "cell_type": "code",
   "execution_count": 14,
   "metadata": {},
   "outputs": [
    {
     "name": "stdout",
     "output_type": "stream",
     "text": [
      "European Put: price is 2.90 and standard error is 0.03\n"
     ]
    }
   ],
   "source": [
    "thePut2=option.VanillaOption(K,T,option.put_payoff)\n",
    "\n",
    "putPrc2=pricers.antithetic_monte_carlo_pricer(thePut2,r,v,q,S,M)\n",
    "print(f'European Put: price is {putPrc2.price:.2f} and standard error is {putPrc2.stderr:.2f}')"
   ]
  },
  {
   "cell_type": "code",
   "execution_count": null,
   "metadata": {},
   "outputs": [],
   "source": []
  },
  {
   "cell_type": "code",
   "execution_count": 15,
   "metadata": {},
   "outputs": [
    {
     "name": "stdout",
     "output_type": "stream",
     "text": [
      "For 1000 iterations. We got a price of $6.79 and a standard error or 0.23.\n",
      "For 10000 iterations. We got a price of $6.98 and a standard error or 0.08.\n",
      "For 25000 iterations. We got a price of $7.01 and a standard error or 0.05.\n",
      "For 50000 iterations. We got a price of $7.00 and a standard error or 0.03.\n",
      "For 75000 iterations. We got a price of $6.97 and a standard error or 0.03.\n",
      "For 100000 iterations. We got a price of $6.94 and a standard error or 0.02.\n"
     ]
    }
   ],
   "source": [
    "theCall2=option.VanillaOption(K,T,option.call_payoff)\n",
    "MCstuff2={}\n",
    "for values in Mlist:\n",
    "    MCstuff2[values]=pricers.antithetic_monte_carlo_pricer(theCall2,r,v,q,S,values)\n",
    "\n",
    "for x in MCstuff2:\n",
    "    print(f'For {x} iterations. We got a price of ${MCstuff2[x][0]:.2f} and a standard error or {MCstuff2[x][1]:.2f}.')"
   ]
  },
  {
   "cell_type": "markdown",
   "metadata": {},
   "source": [
    "| M | Price |\n",
    "|---| ---|\n",
    "|`M[0]`|`46`|"
   ]
  },
  {
   "cell_type": "markdown",
   "metadata": {},
   "source": [
    "<code>M[0]</code>"
   ]
  },
  {
   "cell_type": "code",
   "execution_count": null,
   "metadata": {},
   "outputs": [],
   "source": []
  }
 ],
 "metadata": {
  "kernelspec": {
   "display_name": "Python 3",
   "language": "python",
   "name": "python3"
  },
  "language_info": {
   "codemirror_mode": {
    "name": "ipython",
    "version": 3
   },
   "file_extension": ".py",
   "mimetype": "text/x-python",
   "name": "python",
   "nbconvert_exporter": "python",
   "pygments_lexer": "ipython3",
   "version": "3.7.4"
  }
 },
 "nbformat": 4,
 "nbformat_minor": 2
}
