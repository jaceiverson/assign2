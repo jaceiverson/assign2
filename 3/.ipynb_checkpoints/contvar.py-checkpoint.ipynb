{
 "cells": [
  {
   "cell_type": "markdown",
   "metadata": {},
   "source": [
    "## Control Variate Sampling \n"
   ]
  },
  {
   "cell_type": "code",
   "execution_count": 1,
   "metadata": {},
   "outputs": [],
   "source": [
    "import numpy as np"
   ]
  },
  {
   "cell_type": "code",
   "execution_count": 2,
   "metadata": {},
   "outputs": [],
   "source": [
    "def f(x):\n",
    "    value = 1 /(1+x)\n",
    "    return value"
   ]
  },
  {
   "cell_type": "code",
   "execution_count": 3,
   "metadata": {},
   "outputs": [],
   "source": [
    "def g(x):\n",
    "    value = 1 + x\n",
    "    return value"
   ]
  },
  {
   "cell_type": "code",
   "execution_count": 4,
   "metadata": {},
   "outputs": [],
   "source": [
    "truth = 3.0 / 2.0"
   ]
  },
  {
   "cell_type": "code",
   "execution_count": 5,
   "metadata": {},
   "outputs": [
    {
     "data": {
      "text/plain": [
       "1.5"
      ]
     },
     "execution_count": 5,
     "metadata": {},
     "output_type": "execute_result"
    }
   ],
   "source": [
    "truth"
   ]
  },
  {
   "cell_type": "markdown",
   "metadata": {},
   "source": [
    "### The Naive Solution"
   ]
  },
  {
   "cell_type": "code",
   "execution_count": 6,
   "metadata": {},
   "outputs": [],
   "source": [
    "n = 1500\n",
    "u = np.random.uniform(size=n)\n",
    "x1 = f(u)\n",
    "x1.mean()\n",
    "x1.var()\n",
    "x1.std()\n",
    "se = x1.std() / np.sqrt(n)\n",
    "#standard error = stdev of all observations / sqrt of the sample size"
   ]
  },
  {
   "cell_type": "code",
   "execution_count": 7,
   "metadata": {},
   "outputs": [
    {
     "data": {
      "text/plain": [
       "0.6940299592889958"
      ]
     },
     "execution_count": 7,
     "metadata": {},
     "output_type": "execute_result"
    }
   ],
   "source": [
    "x1.mean()"
   ]
  },
  {
   "cell_type": "code",
   "execution_count": 8,
   "metadata": {},
   "outputs": [
    {
     "data": {
      "text/plain": [
       "0.003638341045535219"
      ]
     },
     "execution_count": 8,
     "metadata": {},
     "output_type": "execute_result"
    }
   ],
   "source": [
    "se"
   ]
  },
  {
   "cell_type": "markdown",
   "metadata": {},
   "source": [
    "### The Control Variate Solution"
   ]
  },
  {
   "cell_type": "code",
   "execution_count": 9,
   "metadata": {},
   "outputs": [],
   "source": [
    "c = 0.4773\n",
    "y = g(u)\n",
    "x2 = f(u) + c * (g(u) - truth)"
   ]
  },
  {
   "cell_type": "code",
   "execution_count": 10,
   "metadata": {},
   "outputs": [
    {
     "data": {
      "text/plain": [
       "0.6934802689511264"
      ]
     },
     "execution_count": 10,
     "metadata": {},
     "output_type": "execute_result"
    }
   ],
   "source": [
    "x2.mean()"
   ]
  },
  {
   "cell_type": "code",
   "execution_count": 11,
   "metadata": {},
   "outputs": [],
   "source": [
    "se2 = x2.std() / np.sqrt(n)"
   ]
  },
  {
   "cell_type": "code",
   "execution_count": 12,
   "metadata": {},
   "outputs": [
    {
     "data": {
      "text/plain": [
       "0.0006391291218281802"
      ]
     },
     "execution_count": 12,
     "metadata": {},
     "output_type": "execute_result"
    }
   ],
   "source": [
    "se2"
   ]
  },
  {
   "cell_type": "code",
   "execution_count": null,
   "metadata": {},
   "outputs": [],
   "source": [
    "\n",
    "\n"
   ]
  },
  {
   "cell_type": "markdown",
   "metadata": {},
   "source": [
    "## Naive Monte Carlo in a BS World"
   ]
  },
  {
   "cell_type": "code",
   "execution_count": 16,
   "metadata": {},
   "outputs": [],
   "source": [
    "import time\n",
    "t1 = time.time()"
   ]
  },
  {
   "cell_type": "code",
   "execution_count": 17,
   "metadata": {},
   "outputs": [],
   "source": [
    "def VanillaCallPayoff(spot, strike):\n",
    "    return np.maximum(spot - strike, 0.0)"
   ]
  },
  {
   "cell_type": "code",
   "execution_count": 18,
   "metadata": {},
   "outputs": [],
   "source": [
    "# The same old same old parameters\n",
    "\n",
    "S = 41.0\n",
    "K = 40.0\n",
    "r = 0.08\n",
    "v = 0.30\n",
    "q = 0.0\n",
    "T = 1.0\n",
    "M = 10000 # number of MC replications\n",
    "N = 252   # number of MC steps in a particular path"
   ]
  },
  {
   "cell_type": "code",
   "execution_count": 19,
   "metadata": {},
   "outputs": [],
   "source": [
    "dt = T\n",
    "nudt = (r - q - 0.5 * v * v) * dt\n",
    "sigdt = v * np.sqrt(dt)"
   ]
  },
  {
   "cell_type": "code",
   "execution_count": 20,
   "metadata": {},
   "outputs": [],
   "source": [
    "spot_t = np.empty((N))\n",
    "call_t = np.empty(M)\n",
    "\n",
    "z = np.random.normal(size=(M,N))\n",
    "\n",
    "for i in range(M):\n",
    "    spot_t[0] = S\n",
    "    for j in range(1,N):\n",
    "        spot_t[j] = spot_t[j-1] * np.exp(nudt + sigdt * z[i,j])\n",
    "    call_t[i] = VanillaCallPayoff(spot_t[-1], K)"
   ]
  },
  {
   "cell_type": "code",
   "execution_count": 21,
   "metadata": {},
   "outputs": [],
   "source": [
    "call_prc = np.exp(-r * T) * call_t.mean() #call_t is \n",
    "t2 = time.time()"
   ]
  },
  {
   "cell_type": "code",
   "execution_count": 22,
   "metadata": {},
   "outputs": [
    {
     "data": {
      "text/plain": [
       "5696274377.013661"
      ]
     },
     "execution_count": 22,
     "metadata": {},
     "output_type": "execute_result"
    }
   ],
   "source": [
    "call_t.mean()"
   ]
  },
  {
   "cell_type": "code",
   "execution_count": 23,
   "metadata": {},
   "outputs": [],
   "source": [
    "se = call_t.std() / np.sqrt(M)"
   ]
  },
  {
   "cell_type": "code",
   "execution_count": 24,
   "metadata": {},
   "outputs": [
    {
     "data": {
      "text/plain": [
       "2085283676.2439895"
      ]
     },
     "execution_count": 24,
     "metadata": {},
     "output_type": "execute_result"
    }
   ],
   "source": [
    "se"
   ]
  },
  {
   "cell_type": "code",
   "execution_count": 25,
   "metadata": {},
   "outputs": [
    {
     "name": "stdout",
     "output_type": "stream",
     "text": [
      "The Naive Monte Carlo Price is: 5258323990.925\n",
      "The Naive Monte Carlo StdErr is: 2085283676.243989\n",
      "The total time take: 7.648273944854736\n"
     ]
    }
   ],
   "source": [
    "print(\"The Naive Monte Carlo Price is: {0:.3f}\".format(call_prc))\n",
    "print(\"The Naive Monte Carlo StdErr is: {0:.6f}\".format(se))\n",
    "print(\"The total time take: {0}\".format(t2-t1))"
   ]
  },
  {
   "cell_type": "code",
   "execution_count": null,
   "metadata": {},
   "outputs": [],
   "source": []
  },
  {
   "cell_type": "markdown",
   "metadata": {},
   "source": [
    "### The Control Variate Approach in a BS World\n",
    "\n",
    "We will use the BS-Delta formula for our control variate. We can write the BS Delta function as follows:"
   ]
  },
  {
   "cell_type": "code",
   "execution_count": 38,
   "metadata": {},
   "outputs": [],
   "source": [
    "from scipy.stats import norm"
   ]
  },
  {
   "cell_type": "code",
   "execution_count": 39,
   "metadata": {},
   "outputs": [],
   "source": [
    "def BlackScholesDelta(spot, t, strike, expiry, volatility, rate, dividend):\n",
    "    tau = expiry - t\n",
    "    d1 = (np.log(spot/strike) + (rate - dividend + 0.5 * volatility * volatility) * tau) / (volatility * np.sqrt(tau))\n",
    "    delta = np.exp(-dividend * tau) * norm.cdf(d1) \n",
    "    return delta"
   ]
  },
  {
   "cell_type": "code",
   "execution_count": 40,
   "metadata": {},
   "outputs": [
    {
     "name": "stderr",
     "output_type": "stream",
     "text": [
      "/home/brough/anaconda3/lib/python3.7/site-packages/ipykernel_launcher.py:3: RuntimeWarning: divide by zero encountered in double_scalars\n",
      "  This is separate from the ipykernel package so we can avoid doing imports until\n",
      "/home/brough/anaconda3/lib/python3.7/site-packages/ipykernel_launcher.py:3: RuntimeWarning: invalid value encountered in sqrt\n",
      "  This is separate from the ipykernel package so we can avoid doing imports until\n"
     ]
    }
   ],
   "source": [
    "erddt = np.exp((r - q) * dt)    \n",
    "beta = -1.0\n",
    "\n",
    "spot_t = np.empty((N))\n",
    "call_t = np.empty(M)\n",
    "#cash_flow_t = np.zeros((engine.replications, ))\n",
    "z = np.random.normal(size=(M,N))\n",
    "\n",
    "for i in range(M):\n",
    "        #spot_t = spot\n",
    "        convar = 0.0\n",
    "        #z = np.random.normal(size=int(engine.time_steps))\n",
    "        spot_t[0] = S\n",
    "        \n",
    "        for j in range(1,N):\n",
    "            t = j * dt\n",
    "            delta = BlackScholesDelta(S, t, K, T, v, r, q)\n",
    "            spot_t[j] = spot_t[j-1] * np.exp(nudt + sigdt * z[i,j])\n",
    "            convar += delta * (spot_t[j] -  spot_t[j-1]* erddt)\n",
    "            #spot_t = spot_tn\n",
    "\n",
    "        call_t[i] = VanillaCallPayoff(spot_t[-1], K) + beta * convar"
   ]
  },
  {
   "cell_type": "code",
   "execution_count": 41,
   "metadata": {},
   "outputs": [],
   "source": [
    "disc = np.exp(-r * T)\n",
    "call_prc = disc * call_t.mean()"
   ]
  },
  {
   "cell_type": "code",
   "execution_count": 42,
   "metadata": {},
   "outputs": [
    {
     "data": {
      "text/plain": [
       "0.035"
      ]
     },
     "execution_count": 42,
     "metadata": {},
     "output_type": "execute_result"
    }
   ],
   "source": [
    "nudt"
   ]
  },
  {
   "cell_type": "code",
   "execution_count": 43,
   "metadata": {},
   "outputs": [],
   "source": [
    "spot_t = np.empty((N))\n",
    "call_t = np.empty(M)\n",
    "\n",
    "z = np.random.normal(size=(M,N))\n",
    "\n",
    "for i in range(M):\n",
    "    spot_t[0] = S\n",
    "    for j in range(1,N):\n",
    "        spot_t[j] = S * np.exp(nudt + sigdt * z[i,j])\n",
    "    call_t[i] = VanillaCallPayoff(spot_t[-1], K)"
   ]
  },
  {
   "cell_type": "code",
   "execution_count": 44,
   "metadata": {},
   "outputs": [
    {
     "data": {
      "text/plain": [
       "7.574918158543756"
      ]
     },
     "execution_count": 44,
     "metadata": {},
     "output_type": "execute_result"
    }
   ],
   "source": [
    "call_t.mean()"
   ]
  },
  {
   "cell_type": "code",
   "execution_count": null,
   "metadata": {},
   "outputs": [],
   "source": []
  },
  {
   "cell_type": "code",
   "execution_count": null,
   "metadata": {},
   "outputs": [],
   "source": []
  }
 ],
 "metadata": {
  "anaconda-cloud": {},
  "kernelspec": {
   "display_name": "Python 3",
   "language": "python",
   "name": "python3"
  },
  "language_info": {
   "codemirror_mode": {
    "name": "ipython",
    "version": 3
   },
   "file_extension": ".py",
   "mimetype": "text/x-python",
   "name": "python",
   "nbconvert_exporter": "python",
   "pygments_lexer": "ipython3",
   "version": "3.7.4"
  }
 },
 "nbformat": 4,
 "nbformat_minor": 4
}
