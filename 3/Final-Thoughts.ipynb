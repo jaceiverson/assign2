{
 "cells": [
  {
   "cell_type": "markdown",
   "metadata": {
    "colab_type": "text",
    "id": "p0z2gd8VqYzm"
   },
   "source": [
    "# __Final Thoughts__\n",
    "\n",
    "<br>\n",
    "\n",
    "__Finance 5350:__ Arbitrage <br>\n",
    "__Author:__ Tyler J. Brough <br>\n",
    "__Last Updated:__ December 4, 2019 <br>\n",
    "\n",
    "<br>\n",
    "<br>"
   ]
  },
  {
   "cell_type": "markdown",
   "metadata": {
    "colab_type": "text",
    "id": "ygbw1vcmq2ti"
   },
   "source": [
    "## ___The Man Watching___ by Rainer Maria Rilke\n",
    "\n",
    "\n",
    "I can tell by the way the trees beat, after <br>\n",
    "so many dull days, on my worried windowpanes <br>\n",
    "that a storm is coming, <br>\n",
    "and I hear the far-off fields say things <br>\n",
    "I can't bear without a friend, <br>\n",
    "I can't love without a sister <br>\n",
    "\n",
    "<br>\n",
    "\n",
    "\n",
    "The storm, the shifter of shapes, drives on <br>\n",
    "across the woods and across time, <br>\n",
    "and the world looks as if it had no age: <br>\n",
    "the landscape like a line in the psalm book, <br>\n",
    "is seriousness and weight and eternity. <br>\n",
    "\n",
    "<br>\n",
    "\n",
    "\n",
    "What we choose to fight is so tiny! <br>\n",
    "What fights us is so great! <br>\n",
    "If only we would let ourselves be dominated <br>\n",
    "as things do by some immense storm, <br>\n",
    "we would become strong too, and not need names. <br>\n",
    "\n",
    "<br>\n",
    "\n",
    "\n",
    "When we win it's with small things, <br>\n",
    "and the triumph itself makes us small. <br>\n",
    "What is extraordinary and eternal <br>\n",
    "does not want to be bent by us. <br>\n",
    "I mean the Angel who appeared <br>\n",
    "to the wrestlers of the Old Testament: <br>\n",
    "when the wrestler's sinews <br>\n",
    "grew long like metal strings, <br>\n",
    "he felt them under his fingers <br>\n",
    "like chords of deep music. <br>\n",
    "\n",
    "<br>\n",
    "\n",
    "Whoever was beaten by this Angel <br>\n",
    "(who often simply declined the fight) <br>\n",
    "went away proud and strengthened <br>\n",
    "and great from that harsh hand, <br>\n",
    "that kneaded him as if to change his shape. <br>\n",
    "Winning does not tempt that man. <br>\n",
    "This is how he grows: by being defeated, decisively, <br>\n",
    "by constantly greater beings. <br>\n",
    "\n",
    "<br>\n",
    "<br>"
   ]
  },
  {
   "cell_type": "markdown",
   "metadata": {
    "colab_type": "text",
    "id": "KPGJRwCgqcdb"
   },
   "source": [
    "## Martin Buber: ___All real living is meeting!___\n",
    "\n",
    "![Martin Buber](https://miro.medium.com/max/5238/1*5pCsMPKc_PvHCYwWD6-SQg.jpeg)"
   ]
  },
  {
   "cell_type": "markdown",
   "metadata": {
    "colab_type": "text",
    "id": "V5KeknkVquJE"
   },
   "source": [
    "<br>\n",
    "\n",
    "Thank you for meeting with me this semster as we have struggled to learning _statistical thinking_ together! I am much benefited by coming to know you. I hope I can always be a resource for you in the future. If so please come and seek me out. \n",
    "\n",
    "<br>"
   ]
  }
 ],
 "metadata": {
  "colab": {
   "collapsed_sections": [],
   "name": "Final-Thoughts.ipynb",
   "provenance": []
  },
  "kernelspec": {
   "display_name": "Python 3",
   "language": "python",
   "name": "python3"
  },
  "language_info": {
   "codemirror_mode": {
    "name": "ipython",
    "version": 3
   },
   "file_extension": ".py",
   "mimetype": "text/x-python",
   "name": "python",
   "nbconvert_exporter": "python",
   "pygments_lexer": "ipython3",
   "version": "3.7.4"
  }
 },
 "nbformat": 4,
 "nbformat_minor": 4
}
