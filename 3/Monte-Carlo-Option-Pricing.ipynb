{
 "cells": [
  {
   "cell_type": "markdown",
   "metadata": {
    "slideshow": {
     "slide_type": "slide"
    }
   },
   "source": [
    "# __Option Pricing by Monte Carlo Methods__\n",
    "\n",
    "<br>\n",
    "\n",
    "Finance 5350: Computational Financial Modeling <br>\n",
    "Tyler J. Brough <br>\n",
    "November 4, 2018 <br>"
   ]
  },
  {
   "cell_type": "markdown",
   "metadata": {
    "slideshow": {
     "slide_type": "slide"
    }
   },
   "source": [
    "# __Table of Contents__\n",
    "\n",
    "1. Simulating Geometric Brownian Motion\n",
    "\n",
    "2. Risk-Neutral Monte Carlo\n",
    "\n",
    "3. Hedging Monte Carlo"
   ]
  },
  {
   "cell_type": "code",
   "execution_count": 1,
   "metadata": {
    "slideshow": {
     "slide_type": "fragment"
    }
   },
   "outputs": [],
   "source": [
    "%matplotlib inline"
   ]
  },
  {
   "cell_type": "code",
   "execution_count": 2,
   "metadata": {
    "slideshow": {
     "slide_type": "fragment"
    }
   },
   "outputs": [],
   "source": [
    "import numpy as np\n",
    "import matplotlib.pyplot as plt\n",
    "from scipy.stats import norm"
   ]
  },
  {
   "cell_type": "markdown",
   "metadata": {
    "slideshow": {
     "slide_type": "slide"
    }
   },
   "source": [
    "## __Simulating Geometric Brownian Motion__\n",
    "\n",
    "Recall that the spot price dynamics of the binomial model are given by:\n",
    "\n",
    "<br>\n",
    "$$\n",
    "S_{t+h} = S_{t} e^{\\{(r - \\delta) h \\pm \\sigma \\sqrt{h} \\}}\n",
    "$$\n",
    "\n",
    "And we recall that with this model we were accomplishing a binomial approximation to a log-normal distribution for stock prices at expiry. We move now to simulating prices directly from the log-normal model. This model of stock prices is called discrete time Geometric Brownian Motion.\n",
    "\n",
    "<br>\n",
    "$$\n",
    "S_{t+h} = S_{t} e^{\\{(r - \\delta - \\frac{1}{2} \\sigma^{2}) h + \\sigma \\sqrt{h} z\\}}\n",
    "$$\n",
    "<br>\n",
    "\n",
    "where $z$ is a draw from a standard normal distribution."
   ]
  },
  {
   "cell_type": "markdown",
   "metadata": {
    "slideshow": {
     "slide_type": "subslide"
    }
   },
   "source": [
    "Let's start with our familiar example: \n",
    "\n",
    "- $S_{0} = \\$41.0$\n",
    "- $K = \\$40.0$\n",
    "- $\\sigma = 0.30$\n",
    "- $r = 0.08$ \n",
    "- $\\delta = 0.0$\n",
    "- $T = 1.0$ years"
   ]
  },
  {
   "cell_type": "markdown",
   "metadata": {
    "slideshow": {
     "slide_type": "subslide"
    }
   },
   "source": [
    "Let's simulate daily prices in `Python` for a single path.\n",
    "\n",
    "Also, recall our code to plot a price path."
   ]
  },
  {
   "cell_type": "code",
   "execution_count": 3,
   "metadata": {
    "slideshow": {
     "slide_type": "fragment"
    }
   },
   "outputs": [],
   "source": [
    "def plotPricePath(path):\n",
    "    nsteps = path.shape[0]\n",
    "    plt.plot(path, 'b', linewidth = 2.5)\n",
    "    plt.title(\"Simulated Binomial Price Path\")\n",
    "    plt.xlabel(\"Time Steps\")\n",
    "    plt.ylabel(\"Stock Price ($)\")\n",
    "    plt.xlim((0, nsteps))\n",
    "    plt.grid(True)\n",
    "    plt.show()"
   ]
  },
  {
   "cell_type": "code",
   "execution_count": 4,
   "metadata": {
    "slideshow": {
     "slide_type": "subslide"
    }
   },
   "outputs": [
    {
     "data": {
      "image/png": "[encoded data removed]",
      "text/plain": [
       "<matplotlib.figure.Figure at 0x7fbaa932a208>"
      ]
     },
     "metadata": {},
     "output_type": "display_data"
    }
   ],
   "source": [
    "S = 41.0\n",
    "K = 40.0\n",
    "v = 0.30\n",
    "r = 0.08\n",
    "q = 0.0\n",
    "T = 1.0\n",
    "n = 252\n",
    "h = T / n\n",
    "\n",
    "path = np.zeros(n)\n",
    "z = np.random.normal(size=n)\n",
    "path[0] = S\n",
    "\n",
    "for t in range(1, n):\n",
    "    path[t] = path[t-1] * np.exp((r - q - 0.5 * v * v) * h + v * np.sqrt(h) * z[t])\n",
    "    \n",
    "plotPricePath(path)"
   ]
  },
  {
   "cell_type": "markdown",
   "metadata": {
    "slideshow": {
     "slide_type": "subslide"
    }
   },
   "source": [
    "Recall our function to simulate many binomial price paths."
   ]
  },
  {
   "cell_type": "code",
   "execution_count": 4,
   "metadata": {
    "slideshow": {
     "slide_type": "fragment"
    }
   },
   "outputs": [],
   "source": [
    "def AssetPaths(spot, mu, sigma, expiry, div, nreps, nsteps):\n",
    "    paths = np.empty((nreps, nsteps + 1))\n",
    "    h = expiry / nsteps\n",
    "    u = np.exp((mu - div) * h + sigma * np.sqrt(h))\n",
    "    d = np.exp((mu - div) * h - sigma * np.sqrt(h))\n",
    "    p = (np.exp((mu - div) * h) - d) / (u - d)\n",
    "    paths[:,0] = spot\n",
    "\n",
    "    for i in range(nreps):\n",
    "        w = np.random.uniform(size=nsteps)\n",
    "        for j in range(nsteps):\n",
    "            if w[j] >= p: \n",
    "                paths[i, j + 1] = paths[i, j] * u\n",
    "            else:\n",
    "                paths[i, j + 1] = paths[i, j] * d\n",
    "\n",
    "    return paths"
   ]
  },
  {
   "cell_type": "markdown",
   "metadata": {
    "slideshow": {
     "slide_type": "subslide"
    }
   },
   "source": [
    "We can replace this with a function that does the same thing, but that simulates discrete-time GBM."
   ]
  },
  {
   "cell_type": "code",
   "execution_count": 5,
   "metadata": {
    "slideshow": {
     "slide_type": "fragment"
    }
   },
   "outputs": [],
   "source": [
    "def AssetPaths(spot, mu, sigma, expiry, div, nreps, nsteps):\n",
    "    paths = np.empty((nreps, nsteps + 1))\n",
    "    h = expiry / nsteps\n",
    "    paths[:, 0] = spot\n",
    "    mudt = (mu - div - 0.5 * sigma * sigma) * h\n",
    "    sigmadt = sigma * np.sqrt(h)\n",
    "    \n",
    "    for t in range(1, nsteps + 1):\n",
    "        z = np.random.normal(size=nreps)\n",
    "        paths[:, t] = paths[:, t-1] * np.exp(mudt + sigmadt * z)\n",
    "\n",
    "    return paths"
   ]
  },
  {
   "cell_type": "code",
   "execution_count": 6,
   "metadata": {
    "slideshow": {
     "slide_type": "subslide"
    }
   },
   "outputs": [],
   "source": [
    "paths = AssetPaths(41.0, 0.10, 0.30, 1.0, 0.0, 10, 252)"
   ]
  },
  {
   "cell_type": "code",
   "execution_count": 7,
   "metadata": {
    "slideshow": {
     "slide_type": "fragment"
    }
   },
   "outputs": [
    {
     "data": {
      "image/png": "[encoded data removed]",
      "text/plain": [
       "<Figure size 432x288 with 1 Axes>"
      ]
     },
     "metadata": {
      "needs_background": "light"
     },
     "output_type": "display_data"
    }
   ],
   "source": [
    "plotPricePath(paths[1])"
   ]
  },
  {
   "cell_type": "code",
   "execution_count": 8,
   "metadata": {},
   "outputs": [
    {
     "data": {
      "text/plain": [
       "array([[ 41.        ,  42.09742151,  42.22587607, ..., 111.88990844,\n",
       "        112.72761493, 112.6539877 ],\n",
       "       [ 41.        ,  39.99929185,  39.93300138, ...,  45.15386255,\n",
       "         45.49008363,  45.93932192],\n",
       "       [ 41.        ,  40.63577945,  41.13298506, ...,  33.71825226,\n",
       "         34.26395671,  35.01651908],\n",
       "       ...,\n",
       "       [ 41.        ,  41.69295523,  41.39510917, ...,  50.39455719,\n",
       "         49.22050162,  49.35040292],\n",
       "       [ 41.        ,  39.90898198,  39.7311435 , ...,  40.37394317,\n",
       "         39.5493616 ,  38.7028576 ],\n",
       "       [ 41.        ,  40.90488786,  40.37651307, ...,  84.4746303 ,\n",
       "         84.04884203,  84.83552654]])"
      ]
     },
     "execution_count": 8,
     "metadata": {},
     "output_type": "execute_result"
    }
   ],
   "source": [
    "paths"
   ]
  },
  {
   "cell_type": "markdown",
   "metadata": {
    "slideshow": {
     "slide_type": "slide"
    }
   },
   "source": [
    "## __Risk-Neutral Monte Carlo (RNMC)__\n",
    "\n",
    "With the ability to simulate discrete-time GBM, we can think about how to use Monte Carlo simulation to price options. We will begin with a European call option (with the data given as above). \n",
    "\n",
    "We recall from the binomial model that under the risk-neutral density we could think of the option price as the discounted expected payoff of the option: \n",
    "\n",
    "<br>\n",
    "$$\n",
    "C_{0} = e^{(-r T)} \\left[p^{\\ast} C_{u} + (1 - p^{\\ast}) C_{d} \\right]\n",
    "$$\n",
    "<br>\n",
    "\n",
    "We can generalize this as: \n",
    "\n",
    "<br>\n",
    "$$\n",
    "C_{0} = e^{(-r T)} E^{\\ast}\\left[C_{T}\\right]\n",
    "$$\n",
    "<br>"
   ]
  },
  {
   "cell_type": "markdown",
   "metadata": {
    "slideshow": {
     "slide_type": "subslide"
    }
   },
   "source": [
    "Let's get functions for the BSM call and put prices as follows:"
   ]
  },
  {
   "cell_type": "code",
   "execution_count": 9,
   "metadata": {
    "slideshow": {
     "slide_type": "fragment"
    }
   },
   "outputs": [
    {
     "name": "stdout",
     "output_type": "stream",
     "text": [
      "The BSM Call Price is:  6.96\n",
      "The BSM Put Price is:  2.89\n"
     ]
    }
   ],
   "source": [
    "def bsmCallPrice(S, K, r, v, q, T):\n",
    "    d1 = (np.log(S/K) + (r - q + 0.5 * v * v) * T) / (v * np.sqrt(T))\n",
    "    d2 = (np.log(S/K) + (r - q - 0.5 * v * v) * T) / (v * np.sqrt(T))\n",
    "    callPrc = S * np.exp(-q * T) * norm.cdf(d1) - K * np.exp(-r * T) * norm.cdf(d2)\n",
    "    \n",
    "    return callPrc\n",
    "\n",
    "def bsmPutPrice(S, K, r, v, q, T):\n",
    "    d1 = (np.log(S/K) + (r - q + 0.5 * v * v) * T) / (v * np.sqrt(T))\n",
    "    d2 = (np.log(S/K) + (r - q - 0.5 * v * v) * T) / (v * np.sqrt(T))\n",
    "    putPrc =  K * np.exp(-r * T) * norm.cdf(-d2) - S * np.exp(-q * T) * norm.cdf(-d1)\n",
    "    \n",
    "    return putPrc   \n",
    "\n",
    "print(f\"The BSM Call Price is: {bsmCallPrice(41.0, 40.0, 0.08, 0.30, 0.0, 1.0) : 0.2f}\")\n",
    "print(f\"The BSM Put Price is: {bsmPutPrice(41.0, 40.0, 0.08, 0.30, 0.0, 1.0) : 0.2f}\")"
   ]
  },
  {
   "cell_type": "markdown",
   "metadata": {
    "slideshow": {
     "slide_type": "subslide"
    }
   },
   "source": [
    "We can approximate this using Monte Carlo with the following:\n",
    "\n",
    "<br>\n",
    "$$\n",
    "\\hat{C_{0}} = e^{(-r T)} \\frac{1}{m}\\sum\\limits_{j=1}^{m} C_{T, j}\n",
    "$$\n",
    "<br>\n",
    "\n",
    "where $C_{T,j}$ is the payoff of the $j^{th}$ simulated price and $m$ is the number of replications in the simulation. _This almost seems too easy!_"
   ]
  },
  {
   "cell_type": "code",
   "execution_count": 10,
   "metadata": {
    "slideshow": {
     "slide_type": "subslide"
    }
   },
   "outputs": [
    {
     "name": "stdout",
     "output_type": "stream",
     "text": [
      "The Call Price by RNMC is:  6.89\n"
     ]
    }
   ],
   "source": [
    "def callPayoff(spot, strike):\n",
    "    return np.maximum(spot - strike, 0.0)\n",
    "\n",
    "S = 41.0\n",
    "K = 40.0\n",
    "r = 0.08\n",
    "v = 0.30\n",
    "q = 0.0\n",
    "T = 1.0\n",
    "m = 100000\n",
    "n = 252\n",
    "\n",
    "paths = AssetPaths(S, r, v, T, q, m, n)\n",
    "callT = callPayoff(paths[:, -1], K)\n",
    "callPrc = callT.mean()\n",
    "callPrc *= np.exp(-r * T)\n",
    "print(f\"The Call Price by RNMC is: {callPrc : 0.2f}\")"
   ]
  },
  {
   "cell_type": "markdown",
   "metadata": {
    "slideshow": {
     "slide_type": "fragment"
    }
   },
   "source": [
    "Recall that the BSM price for this option is $\\$6.96$. We are using the Central Limit Theorem to approximate the sampling distribution of the estimator $\\hat{C_{0}}$. We may need many more paths to get more accuracy. "
   ]
  },
  {
   "cell_type": "markdown",
   "metadata": {
    "slideshow": {
     "slide_type": "subslide"
    }
   },
   "source": [
    "We can of course price a put option as well."
   ]
  },
  {
   "cell_type": "code",
   "execution_count": 11,
   "metadata": {
    "slideshow": {
     "slide_type": "fragment"
    }
   },
   "outputs": [
    {
     "name": "stdout",
     "output_type": "stream",
     "text": [
      "The Put Price by RNMC is:  2.88\n"
     ]
    }
   ],
   "source": [
    "def putPayoff(spot, strike):\n",
    "    return np.maximum(strike - spot, 0.0)\n",
    "\n",
    "putT = putPayoff(paths[:, -1], K)\n",
    "putPrc = putT.mean()\n",
    "putPrc *= np.exp(-r * T)\n",
    "print(f\"The Put Price by RNMC is: {putPrc : 0.2f}\")"
   ]
  },
  {
   "cell_type": "markdown",
   "metadata": {
    "slideshow": {
     "slide_type": "fragment"
    }
   },
   "source": [
    "Again, we may need more replications to achieve greater accuracy. "
   ]
  },
  {
   "cell_type": "markdown",
   "metadata": {
    "slideshow": {
     "slide_type": "fragment"
    }
   },
   "source": [
    "___NB:___ we are simulating prices under the risk-neutral density. This assumes that replication is happening perfectly. The BSM equation is equivalent to infinitely many Monte Carlo paths. We would not use Monte Carlo in this world, but it does provide a convenient testing grounds since we can compare with the theoretical values. "
   ]
  },
  {
   "cell_type": "markdown",
   "metadata": {
    "slideshow": {
     "slide_type": "slide"
    }
   },
   "source": [
    "## __Hedging Monte Carlo (HMC)__\n",
    "\n",
    "The logic behind the BSM method is to price the cost of the replication trading strategy and apply the _Law of One Price_ (also called the _No-Arbitrage Principle_) to infer the price of the option. \n",
    "\n",
    "We can use Monte Carlo simulation to better understand this implied trading strategy. \n",
    "\n",
    "___NB:___ under this approach we will simulate prices in the physical, objective, historical, or real-world density rather than the risk-neutral density. Thus, for these examples we will assume that we somehow are privy to risky discount rate of the option. \n"
   ]
  },
  {
   "cell_type": "markdown",
   "metadata": {
    "slideshow": {
     "slide_type": "subslide"
    }
   },
   "source": [
    "### The Stop-Loss Strategy\n",
    "\n",
    "We first turn our attention to a simplified trading strategy that we can examine by Monte Carlo methods, namely the stop-loss strategy. This strategy specifies that the market-maker hedge the option completely with a 1-for-1 hedge ratio whenever the option is in-the-money and remain unhedged when the option is out-of-the-money (that is hold no shares of the underlying asset). "
   ]
  },
  {
   "cell_type": "code",
   "execution_count": 12,
   "metadata": {
    "slideshow": {
     "slide_type": "subslide"
    }
   },
   "outputs": [],
   "source": [
    "def stopLoss(S, K, mu, sigma, r, T, paths):\n",
    "    df = np.exp(-r * np.arange(n) * h)\n",
    "    covered = False\n",
    "    costs = np.zeros(m)\n",
    "\n",
    "    for k in range(m):\n",
    "        path = paths[k]\n",
    "        cashFlows = np.zeros(n)\n",
    "        if path[0] >= K: \n",
    "            covered = True\n",
    "            cashFlows[0] = -path[0]\n",
    "\n",
    "        for t in range(1, n):\n",
    "            if covered and (path[t] < K):\n",
    "                covered = False\n",
    "                cashFlows[t] = path[t]\n",
    "            elif not covered and (path[t] > K):\n",
    "                covered = True\n",
    "                cashFlows[t] = -path[t]\n",
    "            else:\n",
    "                continue\n",
    "\n",
    "        if (path[-1] >= K):\n",
    "            cashFlows[-1] = cashFlows[-1] + K\n",
    "\n",
    "        costs[k] = -np.dot(df, cashFlows)\n",
    "\n",
    "    return np.mean(costs)\n",
    "    "
   ]
  },
  {
   "cell_type": "code",
   "execution_count": 13,
   "metadata": {
    "slideshow": {
     "slide_type": "subslide"
    }
   },
   "outputs": [
    {
     "name": "stdout",
     "output_type": "stream",
     "text": [
      "The BSM Call Price is:  5.6150\n"
     ]
    }
   ],
   "source": [
    "S = 50.0\n",
    "K = 50.0\n",
    "r = 0.05\n",
    "mu = 0.10\n",
    "v = 0.40\n",
    "T = 5.0 / 12.0\n",
    "m = 100000\n",
    "n = 110\n",
    "\n",
    "print(f\"The BSM Call Price is: {bsmCallPrice(S, K, r, v, q, T) : 0.4f}\")"
   ]
  },
  {
   "cell_type": "code",
   "execution_count": 14,
   "metadata": {
    "slideshow": {
     "slide_type": "fragment"
    }
   },
   "outputs": [
    {
     "name": "stdout",
     "output_type": "stream",
     "text": [
      "The Stop Loss Monte Carlo Price is:  5.6147\n"
     ]
    }
   ],
   "source": [
    "paths = AssetPaths(S, mu, v, T, q, m, n) # notice that we use mu and not r!\n",
    "callPrc = stopLoss(S, K, mu, v, r, T, paths)\n",
    "print(f\"The Stop Loss Monte Carlo Price is: {callPrc : 0.4f}\")"
   ]
  },
  {
   "cell_type": "markdown",
   "metadata": {
    "slideshow": {
     "slide_type": "subslide"
    }
   },
   "source": [
    "### The Delta Hedging Strategy\n",
    "\n",
    "The stop-loss strategy demonstrates some mispricing, but works surprisingly well for such a simple strategy. It gives us some great insight into the BSM dynamic replication strategy even though it's hedging mechanism is far less than optimal. \n",
    "\n",
    "<br>\n",
    "\n",
    "We can see how to improve upon the strategy by dynamically delta hedging the replication portfolio. \n",
    "\n",
    "<br>\n",
    "\n",
    "We examine dynamic delta hedging at the daily level next."
   ]
  },
  {
   "cell_type": "code",
   "execution_count": 15,
   "metadata": {
    "slideshow": {
     "slide_type": "fragment"
    }
   },
   "outputs": [],
   "source": [
    "def bsmCallDelta(S, K, r, v, q, tau):\n",
    "    d1 = (np.log(S/K) + (r - q + 0.5 * v * v) * T) / (v * np.sqrt(T))\n",
    "    \n",
    "    return np.exp(-q * T) * norm.cdf(d1)"
   ]
  },
  {
   "cell_type": "code",
   "execution_count": 16,
   "metadata": {
    "slideshow": {
     "slide_type": "subslide"
    }
   },
   "outputs": [],
   "source": [
    "def deltaHedging(S, K, mu, sigma, r, T, paths):\n",
    "    m, n = paths.shape\n",
    "    cost = np.zeros(m)\n",
    "    cashFlows = np.zeros(n)\n",
    "    h = T / n\n",
    "    df = np.exp(-r * np.arange(n) * h)\n",
    "    tau = T - np.arange(n) * h\n",
    "    \n",
    "    for k in range(m):\n",
    "        path = paths[k]\n",
    "        position = 0.0\n",
    "        deltas = bsmCallDelta(path, K, r, v, q, tau)\n",
    "        \n",
    "        for t in range(n):\n",
    "            cashFlows[t] = (position - deltas[t]) * path[t]\n",
    "            position = deltas[t]\n",
    "            \n",
    "        if (path[-1] >= K):\n",
    "            cashFlows[-1] = K - (1 - position) * path[-1]\n",
    "        else:\n",
    "            cashFlows[-1] = position * path[-1]\n",
    "        \n",
    "        cost[k] = -np.dot(df, cashFlows)\n",
    "        \n",
    "    return np.mean(cost)"
   ]
  },
  {
   "cell_type": "code",
   "execution_count": 17,
   "metadata": {
    "slideshow": {
     "slide_type": "subslide"
    }
   },
   "outputs": [
    {
     "name": "stdout",
     "output_type": "stream",
     "text": [
      "The BSM Call Price is:  5.6150\n",
      "The Delta-Hedging Monte Carlo Call Price is:  5.5716\n"
     ]
    }
   ],
   "source": [
    "paths = AssetPaths(S, mu, v, T, q, m, n)\n",
    "delHdgPrc = deltaHedging(S, K, mu, v, r, T, paths)\n",
    "bsmPrc = bsmCallPrice(S, K, r, v, q, T)\n",
    "print(f\"The BSM Call Price is: {bsmPrc : 0.4f}\")\n",
    "print(f\"The Delta-Hedging Monte Carlo Call Price is: {delHdgPrc : 0.4f}\")"
   ]
  },
  {
   "cell_type": "code",
   "execution_count": null,
   "metadata": {},
   "outputs": [],
   "source": []
  },
  {
   "cell_type": "code",
   "execution_count": null,
   "metadata": {},
   "outputs": [],
   "source": []
  }
 ],
 "metadata": {
  "kernelspec": {
   "display_name": "Python 3",
   "language": "python",
   "name": "python3"
  },
  "language_info": {
   "codemirror_mode": {
    "name": "ipython",
    "version": 3
   },
   "file_extension": ".py",
   "mimetype": "text/x-python",
   "name": "python",
   "nbconvert_exporter": "python",
   "pygments_lexer": "ipython3",
   "version": "3.7.4"
  }
 },
 "nbformat": 4,
 "nbformat_minor": 4
}
