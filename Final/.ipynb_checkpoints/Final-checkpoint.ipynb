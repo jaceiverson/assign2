{
 "cells": [
  {
   "cell_type": "markdown",
   "metadata": {},
   "source": [
    "# Project 1"
   ]
  },
  {
   "cell_type": "markdown",
   "metadata": {},
   "source": [
    "\n",
    "For this project we will price a 1–year maturity, European Asian call option\n",
    "with a strike price of $100, a current asset price at $100 and a volatility of\n",
    "20%. The continuously compounded interest rate is assumed to be 6% per\n",
    "annum, the asset pays a continuous dividend yield of 3% per annum, and\n",
    "their are 10 equally spaced fixing dates. The simulation has 10 time steps\n",
    "and 100 simulations; K = $100, T = 1 year, S = $100, σ = 0.2, r = 0.06,\n",
    "δ = 0.03, N = 10, M = 10000.\n"
   ]
  },
  {
   "cell_type": "code",
   "execution_count": 1,
   "metadata": {},
   "outputs": [],
   "source": [
    "import numpy as np\n",
    "import pricers\n",
    "import option\n",
    "import pandas as pd\n",
    "from scipy.stats import norm"
   ]
  },
  {
   "cell_type": "code",
   "execution_count": 2,
   "metadata": {},
   "outputs": [],
   "source": [
    "def makePaths(rows,column,spot):\n",
    "    #create our paths\n",
    "    paths=np.zeros((rows,column))\n",
    "    #each of our paths starts at 100\n",
    "    paths[:,0]=spot\n",
    "    return paths"
   ]
  },
  {
   "cell_type": "code",
   "execution_count": 3,
   "metadata": {},
   "outputs": [],
   "source": [
    "K=100\n",
    "S=100\n",
    "T=1\n",
    "N=10\n",
    "M=10000\n",
    "vol=.2\n",
    "r=.06\n",
    "delta=.03"
   ]
  },
  {
   "cell_type": "code",
   "execution_count": 4,
   "metadata": {},
   "outputs": [],
   "source": [
    "#these are our randomness variables tht we will use later\n",
    "dt = T / N\n",
    "nudt = (r - delta - 0.5 * vol * vol) * dt\n",
    "sigdt = vol * np.sqrt(dt)"
   ]
  },
  {
   "cell_type": "code",
   "execution_count": 5,
   "metadata": {},
   "outputs": [],
   "source": [
    "paths=makePaths(M,N,S)"
   ]
  },
  {
   "cell_type": "code",
   "execution_count": 6,
   "metadata": {},
   "outputs": [],
   "source": [
    "def eurAsian(paths):\n",
    "    #fill in our paths\n",
    "    for i in range(M):\n",
    "        #gets the randomness\n",
    "        z=np.random.normal(size=N)\n",
    "        for j in range(1,N):\n",
    "            #takes the previous element in the path and calculates its next movement\n",
    "            paths[i,j]=paths[i,j-1]*np.exp(nudt+(sigdt*z[j]))\n",
    "    paths.mean()\n",
    "    return paths"
   ]
  },
  {
   "cell_type": "code",
   "execution_count": 7,
   "metadata": {},
   "outputs": [
    {
     "data": {
      "text/plain": [
       "101.46872812840265"
      ]
     },
     "execution_count": 7,
     "metadata": {},
     "output_type": "execute_result"
    }
   ],
   "source": [
    "#the mean value is the average spot price over all paths\n",
    "eurAsian(paths).mean()"
   ]
  },
  {
   "cell_type": "code",
   "execution_count": 8,
   "metadata": {},
   "outputs": [],
   "source": [
    "#premium is the PV of the average spot prices\n",
    "prc=eurAsian(paths).mean()*np.exp(-r*T)"
   ]
  },
  {
   "cell_type": "code",
   "execution_count": 9,
   "metadata": {},
   "outputs": [
    {
     "name": "stdout",
     "output_type": "stream",
     "text": [
      "Project One Price: $95.57\n"
     ]
    }
   ],
   "source": [
    "print(f'Project One Price: ${prc:.2f}')"
   ]
  },
  {
   "cell_type": "markdown",
   "metadata": {},
   "source": [
    "# Project 2"
   ]
  },
  {
   "cell_type": "markdown",
   "metadata": {},
   "source": [
    "Please report the estimated price and standard error for a Naive Monte Carlo\n",
    "method, an Antithetic Monte Carlo method, a Black-Scholes-based Delta\n",
    "control variate Monte Carlo method combined with Antithetic sampling,\n",
    "and finally for Black-Scholes Delta and Gamma control variates combined\n",
    "with Antithetic sampling. Create a table in your final report to present and\n",
    "discuss the results. What do you conclude about efficiency in pricing the\n",
    "option with these various variance reduction methods?"
   ]
  },
  {
   "cell_type": "code",
   "execution_count": 10,
   "metadata": {},
   "outputs": [],
   "source": [
    "#assign our variables\n",
    "K=100\n",
    "S=100\n",
    "T=1\n",
    "N=52\n",
    "M=10000\n",
    "vol=.2\n",
    "r=.06\n",
    "delta=.03\n",
    "\n",
    "dt = T / N\n",
    "nudt = (r - delta - 0.5 * vol * vol) * dt\n",
    "sigdt = vol * np.sqrt(dt)\n",
    "erddt=np.exp((r-delta)*dt)\n",
    "beta1=-1\n"
   ]
  },
  {
   "cell_type": "code",
   "execution_count": 11,
   "metadata": {},
   "outputs": [],
   "source": [
    "pathsToo=makePaths(M,N,S)"
   ]
  },
  {
   "cell_type": "code",
   "execution_count": 12,
   "metadata": {},
   "outputs": [
    {
     "data": {
      "text/plain": [
       "array([[100.,   0.,   0., ...,   0.,   0.,   0.],\n",
       "       [100.,   0.,   0., ...,   0.,   0.,   0.],\n",
       "       [100.,   0.,   0., ...,   0.,   0.,   0.],\n",
       "       ...,\n",
       "       [100.,   0.,   0., ...,   0.,   0.,   0.],\n",
       "       [100.,   0.,   0., ...,   0.,   0.,   0.],\n",
       "       [100.,   0.,   0., ...,   0.,   0.,   0.]])"
      ]
     },
     "execution_count": 12,
     "metadata": {},
     "output_type": "execute_result"
    }
   ],
   "source": [
    "pathsToo"
   ]
  },
  {
   "cell_type": "markdown",
   "metadata": {},
   "source": [
    "### Naive MC"
   ]
  },
  {
   "cell_type": "code",
   "execution_count": 13,
   "metadata": {},
   "outputs": [],
   "source": [
    "#make the call\n",
    "naiveCall=option.VanillaOption(K,T,option.call_payoff)\n",
    "naivePrc=pricers.naive_monte_carlo_pricer(naiveCall,r,vol,delta,S,M)"
   ]
  },
  {
   "cell_type": "code",
   "execution_count": 14,
   "metadata": {},
   "outputs": [
    {
     "data": {
      "text/plain": [
       "PricerResult(price=9.180364553056185, stderr=0.09748046593044613)"
      ]
     },
     "execution_count": 14,
     "metadata": {},
     "output_type": "execute_result"
    }
   ],
   "source": [
    "naivePrc"
   ]
  },
  {
   "cell_type": "markdown",
   "metadata": {},
   "source": [
    "### Antithetic MC"
   ]
  },
  {
   "cell_type": "code",
   "execution_count": 15,
   "metadata": {},
   "outputs": [],
   "source": [
    "#make the call\n",
    "antiCall=option.VanillaOption(K,T,option.call_payoff)\n",
    "antiPrc=pricers.antithetic_monte_carlo_pricer(antiCall,r,vol,delta,S,M)"
   ]
  },
  {
   "cell_type": "code",
   "execution_count": 16,
   "metadata": {},
   "outputs": [
    {
     "data": {
      "text/plain": [
       "PricerResult(price=9.149326172414277, stderr=0.09715088906133448)"
      ]
     },
     "execution_count": 16,
     "metadata": {},
     "output_type": "execute_result"
    }
   ],
   "source": [
    "antiPrc"
   ]
  },
  {
   "cell_type": "markdown",
   "metadata": {},
   "source": [
    "### Black-Scholes-based Delta control variate Monte Carlo method combined with Antithetic sampling"
   ]
  },
  {
   "cell_type": "code",
   "execution_count": 17,
   "metadata": {},
   "outputs": [],
   "source": [
    "def bsmCallDelta(S, K, r, v, q, tau):\n",
    "    d1 = (np.log(S/K) + (r - q + 0.5 * v * v) * T) / (v * np.sqrt(T))\n",
    "    \n",
    "    return np.exp(-q * T) * norm.cdf(d1)\n",
    "\n",
    "def deltaHedging(S, K, r, T, paths,v,q):\n",
    "    m, n = paths.shape\n",
    "    cost = np.zeros(m)\n",
    "    cashFlows = np.zeros(n)\n",
    "    h = T / n\n",
    "    df = np.exp(-r * np.arange(n) * h)\n",
    "    tau = T - np.arange(n) * h\n",
    "    \n",
    "    for k in range(m):\n",
    "        path = paths[k]\n",
    "        position = 0.0\n",
    "        deltas = bsmCallDelta(path, K, r, v, q, tau)\n",
    "        \n",
    "        for t in range(n):\n",
    "            cashFlows[t] = (position - deltas[t]) * path[t]\n",
    "            position = deltas[t]\n",
    "            \n",
    "        if (path[-1] >= K):\n",
    "            cashFlows[-1] = K - (1 - position) * path[-1]\n",
    "        else:\n",
    "            cashFlows[-1] = position * path[-1]\n",
    "        \n",
    "        cost[k] = -np.dot(df, cashFlows)\n",
    "        \n",
    "    return np.mean(cost)"
   ]
  },
  {
   "cell_type": "code",
   "execution_count": 18,
   "metadata": {},
   "outputs": [],
   "source": [
    "def bsmCallPrice(S, K, r, v, q, T):\n",
    "    d1 = (np.log(S/K) + (r - q + 0.5 * v * v) * T) / (v * np.sqrt(T))\n",
    "    d2 = (np.log(S/K) + (r - q - 0.5 * v * v) * T) / (v * np.sqrt(T))\n",
    "    callPrc = S * np.exp(-q * T) * norm.cdf(d1) - K * np.exp(-r * T) * norm.cdf(d2)\n",
    "    \n",
    "    return callPrc\n",
    "\n",
    "def bsmPutPrice(S, K, r, v, q, T):\n",
    "    d1 = (np.log(S/K) + (r - q + 0.5 * v * v) * T) / (v * np.sqrt(T))\n",
    "    d2 = (np.log(S/K) + (r - q - 0.5 * v * v) * T) / (v * np.sqrt(T))\n",
    "    putPrc =  K * np.exp(-r * T) * norm.cdf(-d2) - S * np.exp(-q * T) * norm.cdf(-d1)\n",
    "    \n",
    "    return putPrc   "
   ]
  },
  {
   "cell_type": "code",
   "execution_count": 19,
   "metadata": {},
   "outputs": [
    {
     "name": "stdout",
     "output_type": "stream",
     "text": [
      "10.722428134046314   9.135195269350568\n"
     ]
    }
   ],
   "source": [
    "paths=makePaths(M,N,S)\n",
    "for i in range(M):\n",
    "    #gets the randomness with antitheti sampeling\n",
    "    z=np.random.normal(size=N)\n",
    "    y=z*-1\n",
    "    z=np.concatenate((z,y))\n",
    "    for j in range(1,N):\n",
    "        #takes the previous element in the path and calculates its next movement\n",
    "        paths[i,j]=paths[i,j-1]*np.exp(nudt+(sigdt*z[j]))\n",
    "        \n",
    "dlthdg=deltaHedging(S, K, r, T, paths,vol,delta)\n",
    "bsmPrc = bsmCallPrice(S, K, r, vol, delta, T)\n",
    "print(dlthdg, \" \", bsmPrc)"
   ]
  },
  {
   "cell_type": "code",
   "execution_count": 30,
   "metadata": {},
   "outputs": [],
   "source": [
    "sum_CT=0\n",
    "sum_CT2=0"
   ]
  },
  {
   "cell_type": "code",
   "execution_count": 31,
   "metadata": {},
   "outputs": [],
   "source": [
    "#we used the pseudo code from the book to make this\n",
    "for i in range(M):\n",
    "    St1=S\n",
    "    St2=S\n",
    "    cv1=0\n",
    "    cv2=0\n",
    "    \n",
    "    for j in range(N):\n",
    "        \n",
    "        t=(j-1)*dt\n",
    "        delta1=bsmCallDelta(St1,K,r,vol,delta,t)\n",
    "        delta2=bsmCallDelta(St2,K,r,vol,delta,t)\n",
    "        z=np.random.normal(size=N) \n",
    "        Stn1=St1*np.exp(nudt+sigdt*z)\n",
    "        Stn2=St2*np.exp(nudt+sigdt*-z)\n",
    "        cv1=cv1+delta1*(Stn1-St1*erddt)\n",
    "        cv2=cv2+delta2*(Stn2-St2*erddt)\n",
    "        St1=Stn1\n",
    "        St2=Stn2\n",
    "        \n",
    "    CT= .5*(np.maximum(0,St1-K)+beta1*cv1+ \n",
    "            np.maximum(0,St2-K)+beta1*cv2)\n",
    "    sum_CT+=CT\n",
    "    sum_CT2+=CT*CT\n",
    "    \n",
    "call_value=sum_CT/M*np.exp(-r*T)\n",
    "SD=np.sqrt((sum_CT2 - sum_CT*sum_CT/M)*np.exp(-2*r*T)/(M-1))\n",
    "SE=SD/np.sqrt(M)"
   ]
  },
  {
   "cell_type": "code",
   "execution_count": 32,
   "metadata": {},
   "outputs": [],
   "source": [
    "bsmDelta=(call_value.mean(),SE.mean())"
   ]
  },
  {
   "cell_type": "code",
   "execution_count": 33,
   "metadata": {},
   "outputs": [
    {
     "data": {
      "text/plain": [
       "(9.138487755697515, 0.021613179512976644)"
      ]
     },
     "execution_count": 33,
     "metadata": {},
     "output_type": "execute_result"
    }
   ],
   "source": [
    "#here is our answer for the BSM Delta control whatever\n",
    "bsmDelta"
   ]
  },
  {
   "cell_type": "markdown",
   "metadata": {},
   "source": [
    "### Black-Scholes Delta and Gamma control variates combined with Antithetic sampling"
   ]
  },
  {
   "cell_type": "code",
   "execution_count": 101,
   "metadata": {},
   "outputs": [],
   "source": [
    "# we got this from here: \n",
    "#https://www.macroption.com/black-scholes-formula/\n",
    "def bsmCallGamma(S, K, v, r, T,q):\n",
    "    d1 = (np.log(S/K) + (r - q + 0.5 * v * v) * T) / (v * np.sqrt(T))\n",
    "    #d2 = d1-(v*np.sqrt(T))\n",
    "    #d2 = (np.log(S/K) + (r - q - 0.5 * v * v) * T) / (v * np.sqrt(T))\n",
    "    gamma=(np.exp(-r*T)/(S*v*np.sqrt(T)))*(1/(np.sqrt(2*np.pi)))*np.exp((-d1**2)/2)\n",
    "    return gamma"
   ]
  },
  {
   "cell_type": "code",
   "execution_count": 105,
   "metadata": {},
   "outputs": [],
   "source": [
    "\"\"\"\n",
    "we tried our best to follow figure 4.13 on page 102 of chapter 4 \n",
    "we were unable to get an answer that seems right even after \n",
    "following the code example. So here you go. \n",
    "We understand that 247 is way too high. And we should have gotten a\n",
    "number around 9 with a stder that is the lowest of the bunch. \n",
    "\n",
    "\"\"\"\n",
    "egamma=np.exp((2*(r-delta)+(vol*vol)*dt))-2*erddt+1\n",
    "beta2=-.5\n",
    "sum_CT=0\n",
    "sum_CT2=0\n",
    "for i in range(M):\n",
    "    St1=S\n",
    "    St2=S\n",
    "    cv1=0\n",
    "    cv2=0\n",
    "    \n",
    "    for j in range(N):\n",
    "        \n",
    "        t=(j-1)*dt\n",
    "        delta1=bsmCallDelta(St1,K,r,vol,delta,t)\n",
    "        delta2=bsmCallDelta(St2,K,r,vol,delta,t)\n",
    "        \n",
    "        #as of right now, we don't know what these are\n",
    "        #(S, K, sigma, r, T, paths)\n",
    "        gamma1=bsmCallGamma(St1,K,vol,r,T,delta)\n",
    "        gamma2=bsmCallGamma(St2,K,vol,r,T,delta)\n",
    "        \n",
    "        #we know what this does again the antithetic stuff\n",
    "        #negative numbers you know? \n",
    "        z=np.random.normal(size=N) \n",
    "        Stn1=St1*np.exp(nudt+sigdt*z[j])\n",
    "        Stn2=St2*np.exp(nudt+sigdt*-z[j])\n",
    "        \n",
    "        cv1+=delta1*(Stn1-St1*erddt)+delta2*(Stn2-St2*erddt)\n",
    "        cv2+=gamma1*((Stn1-St1)**2-St1**2*egamma)+gamma2*((Stn2-St2)**2-St1**2*egamma)\n",
    "        \n",
    "        St1=Stn1\n",
    "        St2=Stn2\n",
    "        \n",
    "    CT= .5*(np.maximum(0,St1-K)+beta1*cv1+ \n",
    "            np.maximum(0,St2-K)+beta2*cv2)\n",
    "    \n",
    "    sum_CT+=CT\n",
    "    sum_CT2+=CT*CT\n",
    "    \n",
    "call_valueGam=sum_CT/M*np.exp(-r*T)\n",
    "SDGam=np.sqrt((sum_CT2 - sum_CT*sum_CT/M)*np.exp(-2*r*T)/(M-1))\n",
    "SEGam=SDGam/np.sqrt(M)"
   ]
  },
  {
   "cell_type": "code",
   "execution_count": 106,
   "metadata": {},
   "outputs": [],
   "source": [
    "bsmGammaDelta=(call_valueGam.mean(),SEGam.mean())"
   ]
  },
  {
   "cell_type": "code",
   "execution_count": 107,
   "metadata": {},
   "outputs": [
    {
     "data": {
      "text/plain": [
       "(247.56044876974101, 0.4803479299306441)"
      ]
     },
     "execution_count": 107,
     "metadata": {},
     "output_type": "execute_result"
    }
   ],
   "source": [
    "#hopefully this is close to the answer??\n",
    "bsmGammaDelta"
   ]
  },
  {
   "cell_type": "markdown",
   "metadata": {},
   "source": [
    "### Final Table"
   ]
  },
  {
   "cell_type": "code",
   "execution_count": 108,
   "metadata": {},
   "outputs": [],
   "source": [
    "table=pd.DataFrame([naivePrc,antiPrc,bsmDelta,bsmGammaDelta])"
   ]
  },
  {
   "cell_type": "code",
   "execution_count": 109,
   "metadata": {},
   "outputs": [
    {
     "data": {
      "text/html": [
       "<div>\n",
       "<style scoped>\n",
       "    .dataframe tbody tr th:only-of-type {\n",
       "        vertical-align: middle;\n",
       "    }\n",
       "\n",
       "    .dataframe tbody tr th {\n",
       "        vertical-align: top;\n",
       "    }\n",
       "\n",
       "    .dataframe thead th {\n",
       "        text-align: right;\n",
       "    }\n",
       "</style>\n",
       "<table border=\"1\" class=\"dataframe\">\n",
       "  <thead>\n",
       "    <tr style=\"text-align: right;\">\n",
       "      <th></th>\n",
       "      <th>Naive</th>\n",
       "      <th>Anti</th>\n",
       "      <th>BSM D</th>\n",
       "      <th>BSM D&amp;G</th>\n",
       "    </tr>\n",
       "  </thead>\n",
       "  <tbody>\n",
       "    <tr>\n",
       "      <th>price</th>\n",
       "      <td>9.180365</td>\n",
       "      <td>9.149326</td>\n",
       "      <td>9.138488</td>\n",
       "      <td>247.560449</td>\n",
       "    </tr>\n",
       "    <tr>\n",
       "      <th>stderr</th>\n",
       "      <td>0.097480</td>\n",
       "      <td>0.097151</td>\n",
       "      <td>0.021613</td>\n",
       "      <td>0.480348</td>\n",
       "    </tr>\n",
       "  </tbody>\n",
       "</table>\n",
       "</div>"
      ],
      "text/plain": [
       "           Naive      Anti     BSM D     BSM D&G\n",
       "price   9.180365  9.149326  9.138488  247.560449\n",
       "stderr  0.097480  0.097151  0.021613    0.480348"
      ]
     },
     "execution_count": 109,
     "metadata": {},
     "output_type": "execute_result"
    }
   ],
   "source": [
    "#final table\n",
    "table.T.rename(columns={0:'Naive',1:'Anti',2:'BSM D',3:'BSM D&G'})"
   ]
  },
  {
   "cell_type": "markdown",
   "metadata": {},
   "source": [
    "We see the price getting lower as we use different models. As the price lowers, the stder also is getting lower, suggesting that we are getting a better answer"
   ]
  },
  {
   "cell_type": "code",
   "execution_count": null,
   "metadata": {},
   "outputs": [],
   "source": []
  }
 ],
 "metadata": {
  "kernelspec": {
   "display_name": "Python 3",
   "language": "python",
   "name": "python3"
  },
  "language_info": {
   "codemirror_mode": {
    "name": "ipython",
    "version": 3
   },
   "file_extension": ".py",
   "mimetype": "text/x-python",
   "name": "python",
   "nbconvert_exporter": "python",
   "pygments_lexer": "ipython3",
   "version": "3.7.4"
  }
 },
 "nbformat": 4,
 "nbformat_minor": 2
}
