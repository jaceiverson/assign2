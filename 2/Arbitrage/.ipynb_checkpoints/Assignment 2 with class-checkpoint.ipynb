{
 "cells": [
  {
   "cell_type": "code",
   "execution_count": 1,
   "metadata": {},
   "outputs": [],
   "source": [
    "#jace test"
   ]
  },
  {
   "cell_type": "code",
   "execution_count": null,
   "metadata": {},
   "outputs": [],
   "source": [
    "\"\"\"\n",
    "FIN 5350- Homework 2\n",
    "Tyler J. Brough\n",
    "October 16, 2019\n",
    "Numerical Problems\n",
    "Please complete the following numerical problems by hand (or in a Rmd document like this one).\n",
    "\n",
    "Problem 1\n",
    "Let S=$100, K=$105, r=8%, T=0.5, and δ=0.0. Let u=1.3, d=0.8, and n=1.\n",
    "\n",
    "Problem 2\n",
    "Let S=$100, K=$95, r=8%, T=0.5, and δ=0.0. Let u=1.3, d=0.8, and n=1.\n",
    "\n",
    "Problem 3\n",
    "Let S=$100, K=$95, σ=30%, r=8%, T=1, and δ=0.0. Let u=1.3, d=0.8, and n=2. Construct the binomial tree for a call option. At each node provide the premium, Δ, and B.\n",
    "\n",
    "Problem 4\n",
    "Repeat the option price calculation in the previous question for stock prices of $80, $90, $110, $120, and $130, but now let n=3. Keep everyting else fixed. What happens to the initial option Δ as the stock price increases?\n",
    "\n",
    "Problem 5\n",
    "Let S=$100, K=$95, r=8% (continuously compounded), σ=30%, δ=0, and T=1 year and n=3.\n",
    "\n",
    "Problem 6\n",
    "Let S=$40, K=$40, r=8% (continuously compounded), σ=30%, δ=0.0, T=0.5 year, and n=3.\n",
    "\n",
    "\"\"\""
   ]
  },
  {
   "cell_type": "code",
   "execution_count": 9,
   "metadata": {},
   "outputs": [],
   "source": [
    "import payoffs as po\n",
    "import numpy as np\n",
    "from scipy.stats import binom"
   ]
  },
  {
   "cell_type": "code",
   "execution_count": 2,
   "metadata": {},
   "outputs": [],
   "source": [
    "def call_payoff(option,spot):\n",
    "    return np.maximum(spot-option.strike,0)"
   ]
  },
  {
   "cell_type": "code",
   "execution_count": 3,
   "metadata": {},
   "outputs": [],
   "source": [
    "def put_payoff(option,spot):\n",
    "    return np.maximum(option.strike-spot,0)"
   ]
  },
  {
   "cell_type": "code",
   "execution_count": 4,
   "metadata": {},
   "outputs": [],
   "source": [
    "def earlyExercise(am, eu):\n",
    "    if am==eu:\n",
    "        return False\n",
    "    else:\n",
    "        return True"
   ]
  },
  {
   "cell_type": "code",
   "execution_count": 5,
   "metadata": {},
   "outputs": [],
   "source": [
    "\"\"\"Problem 1\n",
    "Let S=$100, K=$105, r=8%, T=0.5, and δ=0.0. Let u=1.3, d=0.8, and n=1.\"\"\"\n",
    "spot=100\n",
    "strike=105\n",
    "r=.08\n",
    "exp=.5\n",
    "delta=0\n",
    "u=1.3\n",
    "d=.8\n",
    "n=1"
   ]
  },
  {
   "cell_type": "code",
   "execution_count": 6,
   "metadata": {},
   "outputs": [],
   "source": [
    "#b= (e^-rt)*((u*payoffD-d*payoffU)/(u-d))\n",
    "#delta = (payoffU-payoffD)/u-d *spot? \n",
    "prob1=po.VanillaOption(strike,exp,call_payoff)\n"
   ]
  },
  {
   "cell_type": "code",
   "execution_count": 8,
   "metadata": {},
   "outputs": [
    {
     "data": {
      "text/plain": [
       "0"
      ]
     },
     "execution_count": 8,
     "metadata": {},
     "output_type": "execute_result"
    }
   ],
   "source": [
    "prob1.payoff(spot)"
   ]
  },
  {
   "cell_type": "code",
   "execution_count": null,
   "metadata": {},
   "outputs": [],
   "source": [
    "\"\"\"Problem 2\n",
    "Let S=$100, K=$95, r=8%, T=0.5, and δ=0.0. Let u=1.3, d=0.8, and n=1.\"\"\"\n",
    "spot=100\n",
    "strike=95\n",
    "r=.08\n",
    "exp=.5\n",
    "delta=0\n",
    "u=1.3\n",
    "d=.8\n",
    "n=1"
   ]
  },
  {
   "cell_type": "code",
   "execution_count": 10,
   "metadata": {},
   "outputs": [],
   "source": [
    "\"\"\"Problem 3\n",
    "Let S=$100, K=$95, σ=30%, r=8%, T=1, and δ=0.0. Let u=1.3, d=0.8, and n=2. \n",
    "Construct the binomial tree for a call option. At each node provide the premium, Δ, and B.\"\"\"\n",
    "spot=100\n",
    "strike=95\n",
    "vol=.3\n",
    "r=.08\n",
    "exp=1\n",
    "div=0\n",
    "u=1.3\n",
    "d=.08\n",
    "n=2\n",
    "call=po.VanillaOption(strike,exp,po.call_payoff)"
   ]
  },
  {
   "cell_type": "code",
   "execution_count": 11,
   "metadata": {},
   "outputs": [
    {
     "ename": "NameError",
     "evalue": "name 'B' is not defined",
     "output_type": "error",
     "traceback": [
      "\u001b[0;31m---------------------------------------------------------------------------\u001b[0m",
      "\u001b[0;31mNameError\u001b[0m                                 Traceback (most recent call last)",
      "\u001b[0;32m<ipython-input-11-e025f0ead4a9>\u001b[0m in \u001b[0;36m<module>\u001b[0;34m\u001b[0m\n\u001b[0;32m----> 1\u001b[0;31m \u001b[0mprice\u001b[0m\u001b[0;34m,\u001b[0m\u001b[0mdelta\u001b[0m\u001b[0;34m,\u001b[0m\u001b[0mbeta\u001b[0m\u001b[0;34m=\u001b[0m\u001b[0mpo\u001b[0m\u001b[0;34m.\u001b[0m\u001b[0mamerican_binomial\u001b[0m\u001b[0;34m(\u001b[0m\u001b[0mcall\u001b[0m\u001b[0;34m,\u001b[0m\u001b[0mspot\u001b[0m\u001b[0;34m,\u001b[0m\u001b[0mr\u001b[0m\u001b[0;34m,\u001b[0m\u001b[0mvol\u001b[0m\u001b[0;34m,\u001b[0m\u001b[0mdiv\u001b[0m\u001b[0;34m,\u001b[0m\u001b[0mn\u001b[0m\u001b[0;34m)\u001b[0m\u001b[0;34m\u001b[0m\u001b[0;34m\u001b[0m\u001b[0m\n\u001b[0m",
      "\u001b[0;32m~/Documents/College/Fin Modeling/GIT/assign2/Arbitrage/payoffs.py\u001b[0m in \u001b[0;36mamerican_binomial\u001b[0;34m(option, spot, rate, vol, div, steps)\u001b[0m\n\u001b[1;32m     87\u001b[0m             \u001b[0;31m#we need to have Cu call payoff in the up and Cd in the down\u001b[0m\u001b[0;34m\u001b[0m\u001b[0;34m\u001b[0m\u001b[0;34m\u001b[0m\u001b[0m\n\u001b[1;32m     88\u001b[0m             \u001b[0mdelta\u001b[0m\u001b[0;34m[\u001b[0m\u001b[0mj\u001b[0m\u001b[0;34m]\u001b[0m\u001b[0;34m=\u001b[0m\u001b[0;34m(\u001b[0m\u001b[0moption\u001b[0m\u001b[0;34m.\u001b[0m\u001b[0mpayoff\u001b[0m\u001b[0;34m(\u001b[0m\u001b[0mspot_t\u001b[0m\u001b[0;34m[\u001b[0m\u001b[0mj\u001b[0m\u001b[0;34m]\u001b[0m\u001b[0;34m*\u001b[0m\u001b[0mu\u001b[0m\u001b[0;34m)\u001b[0m\u001b[0;34m-\u001b[0m\u001b[0moption\u001b[0m\u001b[0;34m.\u001b[0m\u001b[0mpayoff\u001b[0m\u001b[0;34m(\u001b[0m\u001b[0mspot_t\u001b[0m\u001b[0;34m[\u001b[0m\u001b[0mj\u001b[0m\u001b[0;34m]\u001b[0m\u001b[0;34m*\u001b[0m\u001b[0md\u001b[0m\u001b[0;34m)\u001b[0m\u001b[0;34m)\u001b[0m\u001b[0;34m/\u001b[0m\u001b[0;34m(\u001b[0m\u001b[0mspot\u001b[0m\u001b[0;34m*\u001b[0m\u001b[0;34m(\u001b[0m\u001b[0mu\u001b[0m\u001b[0;34m-\u001b[0m\u001b[0md\u001b[0m\u001b[0;34m)\u001b[0m\u001b[0;34m)\u001b[0m\u001b[0;34m\u001b[0m\u001b[0;34m\u001b[0m\u001b[0m\n\u001b[0;32m---> 89\u001b[0;31m             \u001b[0mbeta\u001b[0m\u001b[0;34m[\u001b[0m\u001b[0mj\u001b[0m\u001b[0;34m]\u001b[0m\u001b[0;34m=\u001b[0m\u001b[0mnp\u001b[0m\u001b[0;34m.\u001b[0m\u001b[0mexp\u001b[0m\u001b[0;34m(\u001b[0m\u001b[0;34m-\u001b[0m\u001b[0mrate\u001b[0m\u001b[0;34m*\u001b[0m\u001b[0mexpiry\u001b[0m\u001b[0;34m)\u001b[0m\u001b[0;34m*\u001b[0m\u001b[0;34m(\u001b[0m\u001b[0;34m(\u001b[0m\u001b[0mu\u001b[0m\u001b[0;34m*\u001b[0m\u001b[0moption\u001b[0m\u001b[0;34m.\u001b[0m\u001b[0mpayoff\u001b[0m\u001b[0;34m(\u001b[0m\u001b[0mspot_t\u001b[0m\u001b[0;34m[\u001b[0m\u001b[0mj\u001b[0m\u001b[0;34m]\u001b[0m\u001b[0;34m*\u001b[0m\u001b[0md\u001b[0m\u001b[0;34m)\u001b[0m\u001b[0;34m-\u001b[0m\u001b[0md\u001b[0m\u001b[0;34m*\u001b[0m\u001b[0moption\u001b[0m\u001b[0;34m.\u001b[0m\u001b[0mpayoff\u001b[0m\u001b[0;34m(\u001b[0m\u001b[0mspot_t\u001b[0m\u001b[0;34m[\u001b[0m\u001b[0mj\u001b[0m\u001b[0;34m]\u001b[0m\u001b[0;34m*\u001b[0m\u001b[0mu\u001b[0m\u001b[0;34m)\u001b[0m\u001b[0;34m)\u001b[0m\u001b[0;34m/\u001b[0m\u001b[0;34m(\u001b[0m\u001b[0mu\u001b[0m\u001b[0;34m-\u001b[0m\u001b[0md\u001b[0m\u001b[0;34m)\u001b[0m\u001b[0;34m)\u001b[0m\u001b[0;34m\u001b[0m\u001b[0;34m\u001b[0m\u001b[0m\n\u001b[0m\u001b[1;32m     90\u001b[0m \u001b[0;34m\u001b[0m\u001b[0m\n\u001b[1;32m     91\u001b[0m     \u001b[0;32mreturn\u001b[0m \u001b[0mprc_t\u001b[0m\u001b[0;34m,\u001b[0m\u001b[0mdelta\u001b[0m\u001b[0;34m,\u001b[0m\u001b[0mbeta\u001b[0m\u001b[0;34m\u001b[0m\u001b[0;34m\u001b[0m\u001b[0m\n",
      "\u001b[0;31mNameError\u001b[0m: name 'B' is not defined"
     ]
    }
   ],
   "source": [
    "price,delta,beta=po.american_binomial(call,spot,r,vol,div,n)"
   ]
  },
  {
   "cell_type": "code",
   "execution_count": null,
   "metadata": {},
   "outputs": [],
   "source": [
    "\"\"\"Problem 4\n",
    "Repeat the option price calculation in the previous question for stock prices of\n",
    "$80, $90, $110, $120, and $130, but now let n=3. Keep everyting else fixed. \n",
    "What happens to the initial option Δ as the stock price increases?\n",
    "\"\"\"\n",
    "spot=100\n",
    "strike=95\n",
    "vol=.3\n",
    "r=.08\n",
    "exp=1\n",
    "delta=0\n",
    "u=1.3\n",
    "d=.08\n",
    "spotList=[80,90,110,120,130]\n",
    "n=3"
   ]
  },
  {
   "cell_type": "code",
   "execution_count": 11,
   "metadata": {},
   "outputs": [],
   "source": [
    "\"\"\"Problem 5\n",
    "Let S=$100, K=$95, r=8% (continuously compounded), σ=30%, δ=0, and T=1 year and n=3.\"\"\"\n",
    "spot=100\n",
    "strike=95\n",
    "r=.08\n",
    "vol=.3\n",
    "delta=0\n",
    "exp=1\n",
    "n=3\n",
    "call=po.VanillaOption(strike, exp, call_payoff)\n",
    "prob5=po.american_binomial(call,spot,r,vol,delta,n)"
   ]
  },
  {
   "cell_type": "code",
   "execution_count": null,
   "metadata": {},
   "outputs": [],
   "source": [
    "\"\"\"Problem 6\n",
    "Let S=$40, K=$40, r=8% (continuously compounded), σ=30%, δ=0.0, T=0.5 year, and n=3.\"\"\"\n",
    "spot=40\n",
    "strike=40\n",
    "r=.08\n",
    "vol=.3\n",
    "delta=0\n",
    "exp=.5\n",
    "n=3"
   ]
  },
  {
   "cell_type": "code",
   "execution_count": 8,
   "metadata": {},
   "outputs": [],
   "source": [
    "call=po.VanillaOption(strike, exp, call_payoff)"
   ]
  },
  {
   "cell_type": "code",
   "execution_count": 9,
   "metadata": {},
   "outputs": [],
   "source": [
    "prob5=po.american_binomial(call,spot,r,vol,delta,n)"
   ]
  },
  {
   "cell_type": "code",
   "execution_count": 10,
   "metadata": {},
   "outputs": [
    {
     "data": {
      "text/plain": [
       "18.28255220737056"
      ]
     },
     "execution_count": 10,
     "metadata": {},
     "output_type": "execute_result"
    }
   ],
   "source": [
    "prob5"
   ]
  },
  {
   "cell_type": "code",
   "execution_count": null,
   "metadata": {},
   "outputs": [],
   "source": []
  }
 ],
 "metadata": {
  "kernelspec": {
   "display_name": "Python 3",
   "language": "python",
   "name": "python3"
  },
  "language_info": {
   "codemirror_mode": {
    "name": "ipython",
    "version": 3
   },
   "file_extension": ".py",
   "mimetype": "text/x-python",
   "name": "python",
   "nbconvert_exporter": "python",
   "pygments_lexer": "ipython3",
   "version": "3.7.1"
  }
 },
 "nbformat": 4,
 "nbformat_minor": 2
}
