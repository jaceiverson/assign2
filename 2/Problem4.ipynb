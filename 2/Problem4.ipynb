{
 "cells": [
  {
   "cell_type": "code",
   "execution_count": 1,
   "metadata": {},
   "outputs": [],
   "source": [
    "import numpy as np\n",
    "from scipy.stats import binom\n",
    "import matplotlib.pyplot as plt"
   ]
  },
  {
   "cell_type": "code",
   "execution_count": 2,
   "metadata": {},
   "outputs": [],
   "source": [
    "from option import VanillaOption, call_payoff, put_payoff"
   ]
  },
  {
   "cell_type": "code",
   "execution_count": 11,
   "metadata": {},
   "outputs": [],
   "source": [
    "def american_binomial_prob4(option, spot, rate, vol, div, steps):\n",
    "    strike = option.strike\n",
    "    expiry = option.expiry\n",
    "    call_t = 0.0\n",
    "    spot_t = 0.0\n",
    "    h = expiry / steps\n",
    "    num_nodes = steps + 1\n",
    "    #u = np.exp((rate - div) * h + vol * np.sqrt(h))\n",
    "    #d = np.exp((rate - div) * h - vol * np.sqrt(h))\n",
    "    u = 1.3\n",
    "    d = 0.8\n",
    "    pstar = (np.exp(rate * h) - d) / ( u - d)\n",
    "    disc = np.exp(-rate * h) \n",
    "    spot_t = np.zeros((num_nodes, num_nodes))\n",
    "    prc_t = np.zeros((num_nodes, num_nodes))\n",
    "    del_t = np.zeros((num_nodes, num_nodes))\n",
    "    bond_t = np.zeros((num_nodes, num_nodes))\n",
    "    \n",
    "    for j in range(num_nodes):\n",
    "        spot_t[j,-1] = spot * (u ** (steps - j)) * (d ** (j))\n",
    "        prc_t[j, -1] = option.payoff(spot_t[j, -1])\n",
    "\n",
    "    for i in range((steps - 1), -1, -1):\n",
    "        for j in range(i+1):\n",
    "            spot_t[j,i] = spot_t[j,i+1] / u\n",
    "            del_t[j,i] = (prc_t[j,i+1] - prc_t[j+1, i+1]) / (spot_t[j,i] * (u - d))\n",
    "            bond_t[j,i] = disc * (u * prc_t[j+1,i+1] - d * prc_t[j,i+1])/ (u - d)\n",
    "            prc_t[j,i] = del_t[j,i] * spot_t[j,i] + bond_t[j,i]\n",
    "    \n",
    "    #print(prc_t,del_t,bond_t,spot_t)      \n",
    "    return (prc_t[0,0], del_t[0,0])"
   ]
  },
  {
   "cell_type": "code",
   "execution_count": 12,
   "metadata": {},
   "outputs": [],
   "source": [
    "spot = 104.0\n",
    "strike = 95.0\n",
    "rate = 0.08\n",
    "expiry = 1.0\n",
    "vol = 0.3\n",
    "div = 0.0\n",
    "u = 1.3\n",
    "d = 0.8\n",
    "steps = 3"
   ]
  },
  {
   "cell_type": "code",
   "execution_count": 19,
   "metadata": {},
   "outputs": [
    {
     "name": "stdout",
     "output_type": "stream",
     "text": [
      "[ 11.08055585  17.19321255  29.41852594  37.34516043  46.57605995\n",
      "  55.80695946  65.03785898  74.26875849  83.499658   112.30394709\n",
      " 162.30394709] \n",
      " [0.48495817 0.60899351 0.78940853 0.84194335 0.87636019 0.90586035\n",
      " 0.93142715 0.9537981  0.97353717 1.         1.        ] \n",
      " [80.0, 90.0, 110.0, 120.0, 130.0, 140, 150, 160, 170, 200, 250]\n"
     ]
    }
   ],
   "source": [
    "spots = [80.0, 90.0, 110.0, 120.0, 130.0,140,150,160,170,200,250]\n",
    "prc=np.zeros(len(spots))\n",
    "delta=np.zeros(len(spots))\n",
    "\n",
    "for spot in spots:\n",
    "    the_call = VanillaOption(strike, expiry, call_payoff)\n",
    "    prc[spots.index(spot)], delta[spots.index(spot)] = american_binomial_prob4(the_call, spot, rate, vol, div, steps)\n",
    "    #print(f\"({spot:0.2f}, {prc:0.2f}, {delta:0.2f})\")\n",
    "    \n",
    "print(prc,'\\n',delta,'\\n',spots)"
   ]
  },
  {
   "cell_type": "code",
   "execution_count": 21,
   "metadata": {},
   "outputs": [],
   "source": [
    "%matplotlib inline"
   ]
  },
  {
   "cell_type": "code",
   "execution_count": 22,
   "metadata": {},
   "outputs": [],
   "source": [
    "import numpy as np\n",
    "import matplotlib.pyplot as plt"
   ]
  },
  {
   "cell_type": "code",
   "execution_count": 23,
   "metadata": {},
   "outputs": [
    {
     "data": {
      "text/plain": [
       "array([1, 2, 3, 4, 5, 6])"
      ]
     },
     "execution_count": 23,
     "metadata": {},
     "output_type": "execute_result"
    }
   ],
   "source": [
    "x=np.arange(1,7)\n",
    "mu=(1/6)*x.sum()\n",
    "x"
   ]
  },
  {
   "cell_type": "code",
   "execution_count": 26,
   "metadata": {},
   "outputs": [
    {
     "data": {
      "text/plain": [
       "3.5"
      ]
     },
     "execution_count": 26,
     "metadata": {},
     "output_type": "execute_result"
    }
   ],
   "source": [
    "mu\n",
    "#the expected value (if it is even probability is 3.5 of a die)"
   ]
  },
  {
   "cell_type": "code",
   "execution_count": 30,
   "metadata": {},
   "outputs": [
    {
     "data": {
      "text/plain": [
       "6"
      ]
     },
     "execution_count": 30,
     "metadata": {},
     "output_type": "execute_result"
    }
   ],
   "source": [
    "np.random.randint(1,7)"
   ]
  },
  {
   "cell_type": "code",
   "execution_count": 31,
   "metadata": {},
   "outputs": [
    {
     "data": {
      "text/plain": [
       "array([6, 5, 6, 4, 3, 1, 4, 3, 5, 4, 3, 5, 4, 5, 1, 1, 2, 6, 1, 5, 1, 6,\n",
       "       2, 6, 6, 3, 6, 5, 4, 4, 4, 2, 1, 4, 4, 5, 6, 2, 2, 6, 1, 1, 2, 2,\n",
       "       1, 3, 5, 1, 6, 1, 6, 5, 4, 6, 5, 5, 3, 5, 6, 5, 2, 5, 5, 4, 3, 2,\n",
       "       5, 5, 6, 3, 6, 6, 6, 1, 2, 4, 5, 2, 4, 6, 1, 6, 6, 2, 5, 3, 4, 5,\n",
       "       1, 1, 5, 3, 3, 6, 2, 3, 5, 6, 1, 4])"
      ]
     },
     "execution_count": 31,
     "metadata": {},
     "output_type": "execute_result"
    }
   ],
   "source": [
    "np.random.randint(1,7,size=100)"
   ]
  },
  {
   "cell_type": "code",
   "execution_count": 38,
   "metadata": {},
   "outputs": [
    {
     "data": {
      "text/plain": [
       "Text(0, 0.5, 'Estimated mean')"
      ]
     },
     "execution_count": 38,
     "metadata": {},
     "output_type": "execute_result"
    },
    {
     "data": {
      "image/png": "[encoded data removed]",
      "text/plain": [
       "<Figure size 432x288 with 1 Axes>"
      ]
     },
     "metadata": {
      "needs_background": "light"
     },
     "output_type": "display_data"
    }
   ],
   "source": [
    "m = 1000\n",
    "sizes=np.arange(1,m+1)\n",
    "means=np.zeros((m,))\n",
    "\n",
    "for i in range(len(sizes)):\n",
    "    y=np.random.randint(1,7,size=sizes[i])\n",
    "    means[i]=y.mean()\n",
    "\n",
    "plt.plot(means,'g',lw=2.5)\n",
    "plt.grid(True)\n",
    "plt.title(\"Toss of Fair Die\")\n",
    "plt.xlabel(\"Sample Size\")\n",
    "plt.ylabel(\"Estimated mean\")"
   ]
  },
  {
   "cell_type": "code",
   "execution_count": 39,
   "metadata": {},
   "outputs": [
    {
     "data": {
      "text/plain": [
       "array([6.        , 2.5       , 4.66666667, 3.25      , 3.4       ,\n",
       "       3.16666667, 3.85714286, 3.25      , 3.22222222, 3.9       ])"
      ]
     },
     "execution_count": 39,
     "metadata": {},
     "output_type": "execute_result"
    }
   ],
   "source": [
    "means[:10]\n",
    "#shows the last 10 numbers"
   ]
  },
  {
   "cell_type": "code",
   "execution_count": 40,
   "metadata": {},
   "outputs": [
    {
     "data": {
      "text/plain": [
       "array([1, 0, 0, 0, 1, 0, 0, 0, 1, 0, 0, 1, 1, 0, 0, 1, 1, 0, 1, 0, 1, 0,\n",
       "       0, 1, 0, 1, 1, 1, 0, 1, 1, 0, 0, 0, 0, 0, 0, 0, 0, 1, 0, 1, 0, 0,\n",
       "       0, 1, 1, 0, 1, 0, 1, 1, 0, 1, 1, 1, 0, 1, 0, 0, 1, 0, 1, 1, 1, 1,\n",
       "       0, 0, 0, 1, 1, 0, 1, 0, 0, 1, 0, 0, 0, 1, 0, 0, 0, 1, 1, 0, 0, 1,\n",
       "       0, 0, 0, 0, 1, 0, 0, 0, 0, 1, 1, 1])"
      ]
     },
     "execution_count": 40,
     "metadata": {},
     "output_type": "execute_result"
    }
   ],
   "source": [
    "np.random.binomial(1,.5,100)"
   ]
  },
  {
   "cell_type": "code",
   "execution_count": 47,
   "metadata": {},
   "outputs": [
    {
     "data": {
      "text/plain": [
       "Text(0, 0.5, 'Estimated mean')"
      ]
     },
     "execution_count": 47,
     "metadata": {},
     "output_type": "execute_result"
    },
    {
     "data": {
      "image/png": "[encoded data removed]",
      "text/plain": [
       "<Figure size 432x288 with 1 Axes>"
      ]
     },
     "metadata": {
      "needs_background": "light"
     },
     "output_type": "display_data"
    }
   ],
   "source": [
    "m = 1000\n",
    "sizes=np.arange(1,m+1)\n",
    "means=np.zeros((m,))\n",
    "\n",
    "for i in range(len(sizes)):\n",
    "    y=np.random.binomial(1,.5,size=sizes[i])\n",
    "    means[i]=y.mean()\n",
    "\n",
    "plt.plot(means,'g',lw=2)\n",
    "plt.grid(True)\n",
    "plt.title(\"Flip a Coin\")\n",
    "plt.xlabel(\"Sample Size\")\n",
    "plt.ylabel(\"Estimated mean\")"
   ]
  },
  {
   "cell_type": "code",
   "execution_count": 50,
   "metadata": {},
   "outputs": [],
   "source": [
    "#Bruno de Finetti , John Von Neumann, Nick Montropolis,"
   ]
  },
  {
   "cell_type": "markdown",
   "metadata": {},
   "source": []
  },
  {
   "cell_type": "markdown",
   "metadata": {},
   "source": [
    "## Central Limit Theorem"
   ]
  },
  {
   "cell_type": "markdown",
   "metadata": {},
   "source": [
    "If you take more and more samples, it will more closely resemble the population mean"
   ]
  },
  {
   "cell_type": "code",
   "execution_count": 59,
   "metadata": {},
   "outputs": [
    {
     "data": {
      "text/plain": [
       "(array([73., 52., 67., 48., 49., 51., 42., 41., 44., 42., 36., 36., 21.,\n",
       "        34., 21., 25., 21., 21., 20., 12., 19., 13., 18.,  8., 12.,  8.,\n",
       "        13., 14.,  8., 12.,  8.,  6.,  7.,  8.,  5.,  7.,  6.,  8.,  2.,\n",
       "         1.,  4.,  9.,  3.,  4.,  1.,  3.,  1.,  0.,  0.,  1.,  5.,  4.,\n",
       "         3.,  4.,  2.,  1.,  0.,  1.,  1.,  0.,  4.,  0.,  0.,  0.,  1.,\n",
       "         1.,  0.,  0.,  0.,  0.,  0.,  0.,  0.,  1.,  2.,  0.,  0.,  0.,\n",
       "         0.,  0.,  0.,  1.,  0.,  0.,  0.,  1.,  1.,  0.,  1.,  0.,  0.,\n",
       "         0.,  0.,  0.,  0.,  0.,  0.,  0.,  0.,  1.]),\n",
       " array([1.49855911e-03, 6.91915965e-02, 1.36884634e-01, 2.04577671e-01,\n",
       "        2.72270709e-01, 3.39963746e-01, 4.07656783e-01, 4.75349821e-01,\n",
       "        5.43042858e-01, 6.10735895e-01, 6.78428933e-01, 7.46121970e-01,\n",
       "        8.13815008e-01, 8.81508045e-01, 9.49201082e-01, 1.01689412e+00,\n",
       "        1.08458716e+00, 1.15228019e+00, 1.21997323e+00, 1.28766627e+00,\n",
       "        1.35535931e+00, 1.42305234e+00, 1.49074538e+00, 1.55843842e+00,\n",
       "        1.62613146e+00, 1.69382449e+00, 1.76151753e+00, 1.82921057e+00,\n",
       "        1.89690361e+00, 1.96459664e+00, 2.03228968e+00, 2.09998272e+00,\n",
       "        2.16767575e+00, 2.23536879e+00, 2.30306183e+00, 2.37075487e+00,\n",
       "        2.43844790e+00, 2.50614094e+00, 2.57383398e+00, 2.64152702e+00,\n",
       "        2.70922005e+00, 2.77691309e+00, 2.84460613e+00, 2.91229917e+00,\n",
       "        2.97999220e+00, 3.04768524e+00, 3.11537828e+00, 3.18307132e+00,\n",
       "        3.25076435e+00, 3.31845739e+00, 3.38615043e+00, 3.45384346e+00,\n",
       "        3.52153650e+00, 3.58922954e+00, 3.65692258e+00, 3.72461561e+00,\n",
       "        3.79230865e+00, 3.86000169e+00, 3.92769473e+00, 3.99538776e+00,\n",
       "        4.06308080e+00, 4.13077384e+00, 4.19846688e+00, 4.26615991e+00,\n",
       "        4.33385295e+00, 4.40154599e+00, 4.46923903e+00, 4.53693206e+00,\n",
       "        4.60462510e+00, 4.67231814e+00, 4.74001117e+00, 4.80770421e+00,\n",
       "        4.87539725e+00, 4.94309029e+00, 5.01078332e+00, 5.07847636e+00,\n",
       "        5.14616940e+00, 5.21386244e+00, 5.28155547e+00, 5.34924851e+00,\n",
       "        5.41694155e+00, 5.48463459e+00, 5.55232762e+00, 5.62002066e+00,\n",
       "        5.68771370e+00, 5.75540674e+00, 5.82309977e+00, 5.89079281e+00,\n",
       "        5.95848585e+00, 6.02617888e+00, 6.09387192e+00, 6.16156496e+00,\n",
       "        6.22925800e+00, 6.29695103e+00, 6.36464407e+00, 6.43233711e+00,\n",
       "        6.50003015e+00, 6.56772318e+00, 6.63541622e+00, 6.70310926e+00,\n",
       "        6.77080230e+00]),\n",
       " <a list of 100 Patch objects>)"
      ]
     },
     "execution_count": 59,
     "metadata": {},
     "output_type": "execute_result"
    },
    {
     "data": {
      "image/png": "[encoded data removed]",
      "text/plain": [
       "<Figure size 432x288 with 1 Axes>"
      ]
     },
     "metadata": {
      "needs_background": "light"
     },
     "output_type": "display_data"
    }
   ],
   "source": [
    "plt.hist(np.random.exponential(size=1000),bins=100)"
   ]
  },
  {
   "cell_type": "code",
   "execution_count": 63,
   "metadata": {},
   "outputs": [
    {
     "data": {
      "text/plain": [
       "[<matplotlib.lines.Line2D at 0x1a1bb90828>]"
      ]
     },
     "execution_count": 63,
     "metadata": {},
     "output_type": "execute_result"
    },
    {
     "data": {
      "image/png": "[encoded data removed]",
      "text/plain": [
       "<Figure size 432x288 with 1 Axes>"
      ]
     },
     "metadata": {
      "needs_background": "light"
     },
     "output_type": "display_data"
    }
   ],
   "source": [
    "from scipy.stats import gaussian_kde\n",
    "\n",
    "m=10000\n",
    "n=1000\n",
    "\n",
    "means=np.zeros((m,))\n",
    "\n",
    "for i in range(m):\n",
    "    x=np.random.exponential(size=n)\n",
    "    means[i]=x.mean()\n",
    "#not sure why this doesn't work    \n",
    "\"\"\"density=gaussian_kde(means)\n",
    "xs=np.linspace(.5,1.5,200)\n",
    "density.covariance_factor=lambda:.25\n",
    "density._compute_covariance()\n",
    "plt.plot(xs.density(xs),lw=2)\"\"\"\n",
    "\n",
    "plt.plot(means)"
   ]
  },
  {
   "cell_type": "code",
   "execution_count": 64,
   "metadata": {},
   "outputs": [],
   "source": [
    "a=[1,2,3]"
   ]
  },
  {
   "cell_type": "code",
   "execution_count": 65,
   "metadata": {},
   "outputs": [
    {
     "data": {
      "text/plain": [
       "3"
      ]
     },
     "execution_count": 65,
     "metadata": {},
     "output_type": "execute_result"
    }
   ],
   "source": [
    "a[-1]"
   ]
  },
  {
   "cell_type": "code",
   "execution_count": 66,
   "metadata": {},
   "outputs": [
    {
     "data": {
      "text/plain": [
       "[3, 2, 1]"
      ]
     },
     "execution_count": 66,
     "metadata": {},
     "output_type": "execute_result"
    }
   ],
   "source": [
    "a[::-1\n",
    "]"
   ]
  },
  {
   "cell_type": "code",
   "execution_count": 67,
   "metadata": {},
   "outputs": [
    {
     "name": "stdout",
     "output_type": "stream",
     "text": [
      "3\n",
      "2\n",
      "1\n"
     ]
    }
   ],
   "source": [
    "for x in a[::-1]:\n",
    "    print(x)"
   ]
  },
  {
   "cell_type": "code",
   "execution_count": null,
   "metadata": {},
   "outputs": [],
   "source": []
  }
 ],
 "metadata": {
  "kernelspec": {
   "display_name": "Python 3",
   "language": "python",
   "name": "python3"
  },
  "language_info": {
   "codemirror_mode": {
    "name": "ipython",
    "version": 3
   },
   "file_extension": ".py",
   "mimetype": "text/x-python",
   "name": "python",
   "nbconvert_exporter": "python",
   "pygments_lexer": "ipython3",
   "version": "3.7.1"
  }
 },
 "nbformat": 4,
 "nbformat_minor": 4
}
