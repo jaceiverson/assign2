{
 "cells": [
  {
   "cell_type": "code",
   "execution_count": null,
   "metadata": {},
   "outputs": [],
   "source": [
    "\"\"\"\n",
    "FIN 5350- Homework 2\n",
    "Tyler J. Brough\n",
    "October 16, 2019\n",
    "Numerical Problems\n",
    "Please complete the following numerical problems by hand (or in a Rmd document like this one).\n",
    "\n",
    "Problem 1\n",
    "Let S=$100, K=$105, r=8%, T=0.5, and δ=0.0. Let u=1.3, d=0.8, and n=1.\n",
    "\n",
    "Problem 2\n",
    "Let S=$100, K=$95, r=8%, T=0.5, and δ=0.0. Let u=1.3, d=0.8, and n=1.\n",
    "\n",
    "Problem 3\n",
    "Let S=$100, K=$95, σ=30%, r=8%, T=1, and δ=0.0. Let u=1.3, d=0.8, and n=2. Construct the binomial tree for a call option. At each node provide the premium, Δ, and B.\n",
    "\n",
    "Problem 4\n",
    "Repeat the option price calculation in the previous question for stock prices of $80, $90, $110, $120, and $130, but now let n=3. Keep everyting else fixed. What happens to the initial option Δ as the stock price increases?\n",
    "\n",
    "Problem 5\n",
    "Let S=$100, K=$95, r=8% (continuously compounded), σ=30%, δ=0, and T=1 year and n=3.\n",
    "\n",
    "Problem 6\n",
    "Let S=$40, K=$40, r=8% (continuously compounded), σ=30%, δ=0.0, T=0.5 year, and n=3.\n",
    "\n",
    "\"\"\""
   ]
  },
  {
   "cell_type": "code",
   "execution_count": 27,
   "metadata": {},
   "outputs": [],
   "source": [
    "import numpy as np\n",
    "from scipy.stats import binom"
   ]
  },
  {
   "cell_type": "code",
   "execution_count": 2,
   "metadata": {},
   "outputs": [],
   "source": [
    "def callPay(spot, strike):\n",
    "    return np.maximum(spot-strike,0.0)"
   ]
  },
  {
   "cell_type": "code",
   "execution_count": 3,
   "metadata": {},
   "outputs": [],
   "source": [
    "def putPay(spot,strike):\n",
    "    return np.maximum(strike-spot,0.0)"
   ]
  },
  {
   "cell_type": "code",
   "execution_count": 74,
   "metadata": {},
   "outputs": [],
   "source": [
    "def singlePeriod(spot, strike, rate, exp, u, d, port):\n",
    "    if port==\"P\":\n",
    "        Cu=putPay(u*spot, strike)\n",
    "        Cd=putPay(d*spot, strike)\n",
    "    elif port==\"C\":\n",
    "        Cu=callPay(u*spot, strike)\n",
    "        Cd=callPay(d*spot, strike)\n",
    "    else:\n",
    "        raise Exception(\"You need to specificy call or put\")\n",
    "        \n",
    "    delta=(Cu-Cd)/(spot*(u-d))\n",
    "    print(f'hey this is my delta: {delta: .2f}, for spot of {spot}')\n",
    "    B=np.exp(-rate*exp)*((u*Cd-d*Cu)/(u-d))\n",
    "    #print(f'This is a {port}, B: {B:.2f},  delta: {delta: .2f},  price: {delta*spot+B: .2f}')\n",
    "    \n",
    "    return delta*spot+B"
   ]
  },
  {
   "cell_type": "code",
   "execution_count": 61,
   "metadata": {},
   "outputs": [
    {
     "name": "stdout",
     "output_type": "stream",
     "text": [
      "hey this is my delta,  -1.0000000000000002\n",
      "This is a P, B: 46.62,  delta: -1.00,  price:  6.62\n"
     ]
    },
    {
     "ename": "TypeError",
     "evalue": "can't multiply sequence by non-int of type 'float'",
     "output_type": "error",
     "traceback": [
      "\u001b[0;31m---------------------------------------------------------------------------\u001b[0m",
      "\u001b[0;31mTypeError\u001b[0m                                 Traceback (most recent call last)",
      "\u001b[0;32m<ipython-input-61-813820699065>\u001b[0m in \u001b[0;36m<module>\u001b[0;34m\u001b[0m\n\u001b[1;32m      1\u001b[0m \u001b[0mputPrice\u001b[0m\u001b[0;34m=\u001b[0m\u001b[0msinglePeriod\u001b[0m\u001b[0;34m(\u001b[0m\u001b[0;36m40\u001b[0m\u001b[0;34m,\u001b[0m \u001b[0;36m50\u001b[0m\u001b[0;34m,\u001b[0m \u001b[0;36m.07\u001b[0m\u001b[0;34m,\u001b[0m \u001b[0;36m1\u001b[0m\u001b[0;34m,\u001b[0m \u001b[0;36m1.2\u001b[0m\u001b[0;34m,\u001b[0m \u001b[0;36m.9\u001b[0m\u001b[0;34m,\u001b[0m\u001b[0;34m\"P\"\u001b[0m\u001b[0;34m)\u001b[0m\u001b[0;34m\u001b[0m\u001b[0;34m\u001b[0m\u001b[0m\n\u001b[0;32m----> 2\u001b[0;31m \u001b[0mcallPrice\u001b[0m\u001b[0;34m=\u001b[0m\u001b[0msinglePeriod\u001b[0m\u001b[0;34m(\u001b[0m\u001b[0mspot\u001b[0m\u001b[0;34m,\u001b[0m\u001b[0mstrike\u001b[0m\u001b[0;34m,\u001b[0m\u001b[0mrate\u001b[0m\u001b[0;34m,\u001b[0m\u001b[0mexp\u001b[0m\u001b[0;34m,\u001b[0m\u001b[0mu\u001b[0m\u001b[0;34m,\u001b[0m\u001b[0md\u001b[0m\u001b[0;34m,\u001b[0m\u001b[0;34m\"C\"\u001b[0m\u001b[0;34m)\u001b[0m\u001b[0;34m\u001b[0m\u001b[0;34m\u001b[0m\u001b[0m\n\u001b[0m",
      "\u001b[0;32m<ipython-input-60-88e371623b51>\u001b[0m in \u001b[0;36msinglePeriod\u001b[0;34m(spot, strike, rate, exp, u, d, port)\u001b[0m\n\u001b[1;32m      4\u001b[0m         \u001b[0mCd\u001b[0m\u001b[0;34m=\u001b[0m\u001b[0mputPay\u001b[0m\u001b[0;34m(\u001b[0m\u001b[0md\u001b[0m\u001b[0;34m*\u001b[0m\u001b[0mspot\u001b[0m\u001b[0;34m,\u001b[0m \u001b[0mstrike\u001b[0m\u001b[0;34m)\u001b[0m\u001b[0;34m\u001b[0m\u001b[0;34m\u001b[0m\u001b[0m\n\u001b[1;32m      5\u001b[0m     \u001b[0;32melif\u001b[0m \u001b[0mport\u001b[0m\u001b[0;34m==\u001b[0m\u001b[0;34m\"C\"\u001b[0m\u001b[0;34m:\u001b[0m\u001b[0;34m\u001b[0m\u001b[0;34m\u001b[0m\u001b[0m\n\u001b[0;32m----> 6\u001b[0;31m         \u001b[0mCu\u001b[0m\u001b[0;34m=\u001b[0m\u001b[0mcallPay\u001b[0m\u001b[0;34m(\u001b[0m\u001b[0mu\u001b[0m\u001b[0;34m*\u001b[0m\u001b[0mspot\u001b[0m\u001b[0;34m,\u001b[0m \u001b[0mstrike\u001b[0m\u001b[0;34m)\u001b[0m\u001b[0;34m\u001b[0m\u001b[0;34m\u001b[0m\u001b[0m\n\u001b[0m\u001b[1;32m      7\u001b[0m         \u001b[0mCd\u001b[0m\u001b[0;34m=\u001b[0m\u001b[0mcallPay\u001b[0m\u001b[0;34m(\u001b[0m\u001b[0md\u001b[0m\u001b[0;34m*\u001b[0m\u001b[0mspot\u001b[0m\u001b[0;34m,\u001b[0m \u001b[0mstrike\u001b[0m\u001b[0;34m)\u001b[0m\u001b[0;34m\u001b[0m\u001b[0;34m\u001b[0m\u001b[0m\n\u001b[1;32m      8\u001b[0m     \u001b[0;32melse\u001b[0m\u001b[0;34m:\u001b[0m\u001b[0;34m\u001b[0m\u001b[0;34m\u001b[0m\u001b[0m\n",
      "\u001b[0;31mTypeError\u001b[0m: can't multiply sequence by non-int of type 'float'"
     ]
    }
   ],
   "source": [
    "putPrice=singlePeriod(40, 50, .07, 1, 1.2, .9,\"P\")\n",
    "callPrice=singlePeriod(spot,strike,rate,exp,u,d,\"C\")\n"
   ]
  },
  {
   "cell_type": "code",
   "execution_count": 62,
   "metadata": {},
   "outputs": [],
   "source": [
    "spot=100\n",
    "strike=95\n",
    "rate=.08\n",
    "exp=.5\n",
    "u=1.3\n",
    "d=.8\n",
    "n=3\n",
    "calcReq=((n*.5)+.5)*n"
   ]
  },
  {
   "cell_type": "code",
   "execution_count": 63,
   "metadata": {},
   "outputs": [],
   "source": [
    "callPrice=spot-np.exp(-rate*exp)*strike+putPrice"
   ]
  },
  {
   "cell_type": "code",
   "execution_count": 64,
   "metadata": {},
   "outputs": [
    {
     "data": {
      "text/plain": [
       "15.344694275826711"
      ]
     },
     "execution_count": 64,
     "metadata": {},
     "output_type": "execute_result"
    }
   ],
   "source": [
    "callPrice"
   ]
  },
  {
   "cell_type": "code",
   "execution_count": 65,
   "metadata": {},
   "outputs": [
    {
     "name": "stdout",
     "output_type": "stream",
     "text": [
      "hey this is my delta,  0.7\n",
      "This is a C, B: -53.80,  delta:  0.70,  price:  16.20\n"
     ]
    }
   ],
   "source": [
    "twoPeriod=singlePeriod(spot,strike,rate,exp,u,d,\"C\")"
   ]
  },
  {
   "cell_type": "code",
   "execution_count": 1,
   "metadata": {},
   "outputs": [],
   "source": [
    "n=2\n",
    "u=1.2\n",
    "d=.75\n",
    "s=100\n",
    "numbers=[]\n",
    "tree={}\n",
    "for x in range(n):\n",
    "    if x<1:\n",
    "        numbers.append(s*u)\n",
    "    else:\n",
    "        numbers.append(s*d)\n",
    "    \n"
   ]
  },
  {
   "cell_type": "code",
   "execution_count": 2,
   "metadata": {},
   "outputs": [
    {
     "ename": "NameError",
     "evalue": "name 'np' is not defined",
     "output_type": "error",
     "traceback": [
      "\u001b[0;31m---------------------------------------------------------------------------\u001b[0m",
      "\u001b[0;31mNameError\u001b[0m                                 Traceback (most recent call last)",
      "\u001b[0;32m<ipython-input-2-002965c48ffe>\u001b[0m in \u001b[0;36m<module>\u001b[0;34m\u001b[0m\n\u001b[1;32m     10\u001b[0m \u001b[0mcallT\u001b[0m\u001b[0;34m=\u001b[0m\u001b[0;36m0\u001b[0m\u001b[0;34m\u001b[0m\u001b[0;34m\u001b[0m\u001b[0m\n\u001b[1;32m     11\u001b[0m \u001b[0mh\u001b[0m\u001b[0;34m=\u001b[0m\u001b[0mexp\u001b[0m\u001b[0;34m/\u001b[0m\u001b[0msteps\u001b[0m\u001b[0;34m\u001b[0m\u001b[0;34m\u001b[0m\u001b[0m\n\u001b[0;32m---> 12\u001b[0;31m \u001b[0mpstar\u001b[0m \u001b[0;34m=\u001b[0m \u001b[0;34m(\u001b[0m\u001b[0mnp\u001b[0m\u001b[0;34m.\u001b[0m\u001b[0mexp\u001b[0m\u001b[0;34m(\u001b[0m\u001b[0mrate\u001b[0m\u001b[0;34m*\u001b[0m\u001b[0mh\u001b[0m\u001b[0;34m)\u001b[0m\u001b[0;34m-\u001b[0m\u001b[0md\u001b[0m\u001b[0;34m)\u001b[0m\u001b[0;34m/\u001b[0m\u001b[0;34m(\u001b[0m\u001b[0mu\u001b[0m\u001b[0;34m-\u001b[0m\u001b[0md\u001b[0m\u001b[0;34m)\u001b[0m\u001b[0;34m\u001b[0m\u001b[0;34m\u001b[0m\u001b[0m\n\u001b[0m\u001b[1;32m     13\u001b[0m \u001b[0;31m#pstar = (e^rt - d)/u-d\u001b[0m\u001b[0;34m\u001b[0m\u001b[0;34m\u001b[0m\u001b[0;34m\u001b[0m\u001b[0m\n",
      "\u001b[0;31mNameError\u001b[0m: name 'np' is not defined"
     ]
    }
   ],
   "source": [
    "steps=3\n",
    "nodes=steps+1\n",
    "spot=[80,90,110,120,130]\n",
    "strike=95\n",
    "rate=.08\n",
    "exp=1\n",
    "vol=.3\n",
    "u=1.3\n",
    "d=.8\n",
    "callT=0\n",
    "h=exp/steps\n",
    "pstar = (np.exp(rate*h)-d)/(u-d)\n",
    "#pstar = (e^rt - d)/u-d\n"
   ]
  },
  {
   "cell_type": "code",
   "execution_count": 3,
   "metadata": {},
   "outputs": [
    {
     "ename": "NameError",
     "evalue": "name 'callPay' is not defined",
     "output_type": "error",
     "traceback": [
      "\u001b[0;31m---------------------------------------------------------------------------\u001b[0m",
      "\u001b[0;31mNameError\u001b[0m                                 Traceback (most recent call last)",
      "\u001b[0;32m<ipython-input-3-55f7cd9d6611>\u001b[0m in \u001b[0;36m<module>\u001b[0;34m\u001b[0m\n\u001b[1;32m      8\u001b[0m         \u001b[0mspotT\u001b[0m\u001b[0;34m=\u001b[0m\u001b[0;34m(\u001b[0m\u001b[0my\u001b[0m\u001b[0;34m*\u001b[0m\u001b[0;34m(\u001b[0m\u001b[0mu\u001b[0m\u001b[0;34m**\u001b[0m\u001b[0;34m(\u001b[0m\u001b[0msteps\u001b[0m\u001b[0;34m-\u001b[0m\u001b[0mx\u001b[0m\u001b[0;34m)\u001b[0m\u001b[0;34m)\u001b[0m\u001b[0;34m*\u001b[0m\u001b[0;34m(\u001b[0m\u001b[0md\u001b[0m\u001b[0;34m**\u001b[0m\u001b[0;34m(\u001b[0m\u001b[0mx\u001b[0m\u001b[0;34m)\u001b[0m\u001b[0;34m)\u001b[0m\u001b[0;34m)\u001b[0m\u001b[0;34m\u001b[0m\u001b[0;34m\u001b[0m\u001b[0m\n\u001b[1;32m      9\u001b[0m         \u001b[0;31m#price of the call = e^-rt * [(pstar*Cu) +() + (pstar*Cd)]\u001b[0m\u001b[0;34m\u001b[0m\u001b[0;34m\u001b[0m\u001b[0;34m\u001b[0m\u001b[0m\n\u001b[0;32m---> 10\u001b[0;31m         \u001b[0mcallT\u001b[0m\u001b[0;34m+=\u001b[0m\u001b[0mcallPay\u001b[0m\u001b[0;34m(\u001b[0m\u001b[0mspotT\u001b[0m\u001b[0;34m,\u001b[0m\u001b[0mstrike\u001b[0m\u001b[0;34m)\u001b[0m\u001b[0;34m*\u001b[0m\u001b[0mbinom\u001b[0m\u001b[0;34m.\u001b[0m\u001b[0mpmf\u001b[0m\u001b[0;34m(\u001b[0m\u001b[0msteps\u001b[0m\u001b[0;34m-\u001b[0m\u001b[0mx\u001b[0m\u001b[0;34m,\u001b[0m \u001b[0msteps\u001b[0m\u001b[0;34m,\u001b[0m \u001b[0mpstar\u001b[0m\u001b[0;34m)\u001b[0m\u001b[0;34m\u001b[0m\u001b[0;34m\u001b[0m\u001b[0m\n\u001b[0m\u001b[1;32m     11\u001b[0m     \u001b[0mfinalPrices\u001b[0m\u001b[0;34m.\u001b[0m\u001b[0mappend\u001b[0m\u001b[0;34m(\u001b[0m\u001b[0mcallT\u001b[0m\u001b[0;34m)\u001b[0m\u001b[0;34m\u001b[0m\u001b[0;34m\u001b[0m\u001b[0m\n",
      "\u001b[0;31mNameError\u001b[0m: name 'callPay' is not defined"
     ]
    }
   ],
   "source": [
    "#this is going to create the last nodes of our tree and we can put them into a list\n",
    "finalPrices=[]\n",
    "delta=[]\n",
    "\n",
    "for y in spot:\n",
    "    callT=0\n",
    "    for x in range(nodes):\n",
    "        spotT=(y*(u**(steps-x))*(d**(x)))\n",
    "        #price of the call = e^-rt * [(pstar*Cu) +() + (pstar*Cd)]\n",
    "        callT+=callPay(spotT,strike)*binom.pmf(steps-x, steps, pstar)\n",
    "    finalPrices.append(callT)\n"
   ]
  },
  {
   "cell_type": "code",
   "execution_count": 4,
   "metadata": {},
   "outputs": [
    {
     "ename": "IndexError",
     "evalue": "list index out of range",
     "output_type": "error",
     "traceback": [
      "\u001b[0;31m---------------------------------------------------------------------------\u001b[0m",
      "\u001b[0;31mIndexError\u001b[0m                                Traceback (most recent call last)",
      "\u001b[0;32m<ipython-input-4-556d4552628d>\u001b[0m in \u001b[0;36m<module>\u001b[0;34m\u001b[0m\n\u001b[1;32m      1\u001b[0m \u001b[0;32mfor\u001b[0m \u001b[0mx\u001b[0m \u001b[0;32min\u001b[0m \u001b[0mrange\u001b[0m\u001b[0;34m(\u001b[0m\u001b[0mlen\u001b[0m\u001b[0;34m(\u001b[0m\u001b[0mspot\u001b[0m\u001b[0;34m)\u001b[0m\u001b[0;34m)\u001b[0m\u001b[0;34m:\u001b[0m\u001b[0;34m\u001b[0m\u001b[0;34m\u001b[0m\u001b[0m\n\u001b[0;32m----> 2\u001b[0;31m     \u001b[0mprint\u001b[0m\u001b[0;34m(\u001b[0m\u001b[0;34mf'If your spot price is ${spot[x]: .2f}, your call price would be ${finalPrices[x]: .2f}'\u001b[0m\u001b[0;34m)\u001b[0m\u001b[0;34m\u001b[0m\u001b[0;34m\u001b[0m\u001b[0m\n\u001b[0m",
      "\u001b[0;31mIndexError\u001b[0m: list index out of range"
     ]
    }
   ],
   "source": [
    "for x in range(len(spot)):\n",
    "    print(f'If your spot price is ${spot[x]: .2f}, your call price would be ${finalPrices[x]: .2f}')"
   ]
  },
  {
   "cell_type": "code",
   "execution_count": 5,
   "metadata": {},
   "outputs": [
    {
     "ename": "NameError",
     "evalue": "name 'singlePeriod' is not defined",
     "output_type": "error",
     "traceback": [
      "\u001b[0;31m---------------------------------------------------------------------------\u001b[0m",
      "\u001b[0;31mNameError\u001b[0m                                 Traceback (most recent call last)",
      "\u001b[0;32m<ipython-input-5-94c70aa5a659>\u001b[0m in \u001b[0;36m<module>\u001b[0;34m\u001b[0m\n\u001b[1;32m      1\u001b[0m \u001b[0;32mfor\u001b[0m \u001b[0mx\u001b[0m \u001b[0;32min\u001b[0m \u001b[0mspot\u001b[0m\u001b[0;34m:\u001b[0m\u001b[0;34m\u001b[0m\u001b[0;34m\u001b[0m\u001b[0m\n\u001b[0;32m----> 2\u001b[0;31m     \u001b[0msinglePeriod\u001b[0m\u001b[0;34m(\u001b[0m\u001b[0mx\u001b[0m\u001b[0;34m,\u001b[0m \u001b[0mstrike\u001b[0m\u001b[0;34m,\u001b[0m \u001b[0mrate\u001b[0m\u001b[0;34m,\u001b[0m \u001b[0mexp\u001b[0m\u001b[0;34m,\u001b[0m \u001b[0mu\u001b[0m\u001b[0;34m,\u001b[0m \u001b[0md\u001b[0m\u001b[0;34m,\u001b[0m \u001b[0;34m\"C\"\u001b[0m\u001b[0;34m)\u001b[0m\u001b[0;34m\u001b[0m\u001b[0;34m\u001b[0m\u001b[0m\n\u001b[0m\u001b[1;32m      3\u001b[0m \u001b[0;34m\u001b[0m\u001b[0m\n\u001b[1;32m      4\u001b[0m \u001b[0mprint\u001b[0m\u001b[0;34m(\u001b[0m\u001b[0;34mf'As spot price increases, delta converges to 1'\u001b[0m\u001b[0;34m)\u001b[0m\u001b[0;34m\u001b[0m\u001b[0;34m\u001b[0m\u001b[0m\n",
      "\u001b[0;31mNameError\u001b[0m: name 'singlePeriod' is not defined"
     ]
    }
   ],
   "source": [
    "for x in spot:\n",
    "    singlePeriod(x, strike, rate, exp, u, d, \"C\")\n",
    "    \n",
    "print(f'As spot price increases, delta converges to 1')"
   ]
  },
  {
   "cell_type": "code",
   "execution_count": 6,
   "metadata": {},
   "outputs": [
    {
     "name": "stdout",
     "output_type": "stream",
     "text": [
      "3\n",
      "219.70000000000002\n",
      "135.20000000000002\n",
      "83.20000000000002\n",
      "51.20000000000001\n",
      "2\n",
      "169.00000000000003\n",
      "104.0\n",
      "64.00000000000001\n",
      "1\n",
      "130.0\n",
      "80.0\n",
      "0\n",
      "100.0\n"
     ]
    }
   ],
   "source": [
    "steps=3\n",
    "spot=100\n",
    "nodes=[]\n",
    "jeff={}\n",
    "#this will create our tree and put it into a dictionary\n",
    "for y in range(steps+1):\n",
    "    nodes=[]\n",
    "    z=steps-y\n",
    "    print(z)\n",
    "    for x in range(z+1):\n",
    "        spotT=(spot*(u**(z-x))*(d**(x)))\n",
    "        print(spotT)\n",
    "        nodes.append(spotT)\n",
    "    jeff[z]=nodes"
   ]
  },
  {
   "cell_type": "code",
   "execution_count": 95,
   "metadata": {},
   "outputs": [
    {
     "data": {
      "text/plain": [
       "{3: [219.70000000000002,\n",
       "  135.20000000000002,\n",
       "  83.20000000000002,\n",
       "  51.20000000000001],\n",
       " 2: [169.00000000000003, 104.0, 64.00000000000001],\n",
       " 1: [130.0, 80.0],\n",
       " 0: [100.0]}"
      ]
     },
     "execution_count": 95,
     "metadata": {},
     "output_type": "execute_result"
    }
   ],
   "source": [
    "jeff"
   ]
  },
  {
   "cell_type": "code",
   "execution_count": 106,
   "metadata": {},
   "outputs": [
    {
     "name": "stdout",
     "output_type": "stream",
     "text": [
      "219.70000000000002\n",
      "135.20000000000002\n",
      "83.20000000000002\n",
      "51.20000000000001\n",
      "3\n",
      "169.00000000000003\n",
      "104.0\n",
      "64.00000000000001\n",
      "2\n",
      "130.0\n",
      "80.0\n",
      "1\n",
      "100.0\n",
      "0\n"
     ]
    }
   ],
   "source": [
    "for y in jeff.keys():\n",
    "    for x in jeff.get(y):\n",
    "        print(x)\n",
    "    print(y)"
   ]
  },
  {
   "cell_type": "code",
   "execution_count": 100,
   "metadata": {},
   "outputs": [
    {
     "data": {
      "text/plain": [
       "dict_items([(3, [219.70000000000002, 135.20000000000002, 83.20000000000002, 51.20000000000001]), (2, [169.00000000000003, 104.0, 64.00000000000001]), (1, [130.0, 80.0]), (0, [100.0])])"
      ]
     },
     "execution_count": 100,
     "metadata": {},
     "output_type": "execute_result"
    }
   ],
   "source": [
    "jeff.items()"
   ]
  },
  {
   "cell_type": "code",
   "execution_count": 101,
   "metadata": {},
   "outputs": [
    {
     "data": {
      "text/plain": [
       "dict_keys([3, 2, 1, 0])"
      ]
     },
     "execution_count": 101,
     "metadata": {},
     "output_type": "execute_result"
    }
   ],
   "source": [
    "jeff.keys()"
   ]
  },
  {
   "cell_type": "code",
   "execution_count": null,
   "metadata": {},
   "outputs": [],
   "source": []
  }
 ],
 "metadata": {
  "kernelspec": {
   "display_name": "Python 3",
   "language": "python",
   "name": "python3"
  },
  "language_info": {
   "codemirror_mode": {
    "name": "ipython",
    "version": 3
   },
   "file_extension": ".py",
   "mimetype": "text/x-python",
   "name": "python",
   "nbconvert_exporter": "python",
   "pygments_lexer": "ipython3",
   "version": "3.7.1"
  }
 },
 "nbformat": 4,
 "nbformat_minor": 2
}
