{
 "cells": [
  {
   "cell_type": "code",
   "execution_count": null,
   "metadata": {},
   "outputs": [],
   "source": [
    "\"\"\"\n",
    "FIN 5350- Homework 2\n",
    "Tyler J. Brough\n",
    "October 16, 2019\n",
    "Numerical Problems\n",
    "Please complete the following numerical problems by hand (or in a Rmd document like this one).\n",
    "\n",
    "Problem 1\n",
    "Let S=$100, K=$105, r=8%, T=0.5, and δ=0.0. Let u=1.3, d=0.8, and n=1.\n",
    "\n",
    "Problem 2\n",
    "Let S=$100, K=$95, r=8%, T=0.5, and δ=0.0. Let u=1.3, d=0.8, and n=1.\n",
    "\n",
    "Problem 3\n",
    "Let S=$100, K=$95, σ=30%, r=8%, T=1, and δ=0.0. Let u=1.3, d=0.8, and n=2. Construct the binomial tree for a call option. At each node provide the premium, Δ, and B.\n",
    "\n",
    "Problem 4\n",
    "Repeat the option price calculation in the previous question for stock prices of $80, $90, $110, $120, and $130, but now let n=3. Keep everyting else fixed. What happens to the initial option Δ as the stock price increases?\n",
    "\n",
    "Problem 5\n",
    "Let S=$100, K=$95, r=8% (continuously compounded), σ=30%, δ=0, and T=1 year and n=3.\n",
    "\n",
    "Problem 6\n",
    "Let S=$40, K=$40, r=8% (continuously compounded), σ=30%, δ=0.0, T=0.5 year, and n=3.\n",
    "\n",
    "\"\"\""
   ]
  },
  {
   "cell_type": "code",
   "execution_count": 1,
   "metadata": {},
   "outputs": [],
   "source": [
    "import numpy as np"
   ]
  },
  {
   "cell_type": "code",
   "execution_count": 2,
   "metadata": {},
   "outputs": [],
   "source": [
    "def callPay(spot, strike):\n",
    "    return np.maximum(spot-strike,0.0)"
   ]
  },
  {
   "cell_type": "code",
   "execution_count": 3,
   "metadata": {},
   "outputs": [],
   "source": [
    "def putPay(spot,strike):\n",
    "    return np.maximum(strike-spot,0.0)"
   ]
  },
  {
   "cell_type": "code",
   "execution_count": 20,
   "metadata": {},
   "outputs": [],
   "source": [
    "def singlePeriod(spot, strike, rate, exp, u, d, port):\n",
    "    if port==\"P\":\n",
    "        Cu=putPay(u*spot, strike)\n",
    "        Cd=putPay(d*spot, strike)\n",
    "    elif port==\"C\":\n",
    "        Cu=callPay(u*spot, strike)\n",
    "        Cd=callPay(d*spot, strike)\n",
    "    else:\n",
    "        raise Exception(\"You need to specificy call or put\")\n",
    "        \n",
    "    delta=(Cu-Cd)/(spot*(u-d))\n",
    "    B=np.exp(-rate*exp)*((u*Cd-d*Cu)/(u-d))\n",
    "    print(f'This is a {port}, B: {B:.2f},  delta: {delta: .2f},  price: {delta*spot+B: .2f}')\n",
    "    \n",
    "    return delta*spot+B"
   ]
  },
  {
   "cell_type": "code",
   "execution_count": 22,
   "metadata": {},
   "outputs": [
    {
     "name": "stdout",
     "output_type": "stream",
     "text": [
      "This is a P, B: 0.00,  delta:  0.00,  price:  0.00\n",
      "This is a C, B: -53.80,  delta:  0.70,  price:  16.20\n"
     ]
    }
   ],
   "source": [
    "putPrice=singlePeriod(50, 40, .07, 1, 1.2, .9,\"P\")\n",
    "callPrice=singlePeriod(spot,strike,rate,exp,u,d,\"C\")\n"
   ]
  },
  {
   "cell_type": "code",
   "execution_count": 15,
   "metadata": {},
   "outputs": [],
   "source": [
    "spot=100\n",
    "strike=95\n",
    "rate=.08\n",
    "exp=.5\n",
    "u=1.3\n",
    "d=.8\n",
    "n=3\n",
    "calcReq=((n*.5)+.5)*n"
   ]
  },
  {
   "cell_type": "code",
   "execution_count": 82,
   "metadata": {},
   "outputs": [],
   "source": [
    "callPrice=spot-np.exp(-rate*exp)*strike+putPrice"
   ]
  },
  {
   "cell_type": "code",
   "execution_count": 83,
   "metadata": {},
   "outputs": [
    {
     "data": {
      "text/plain": [
       "16.195791407469898"
      ]
     },
     "execution_count": 83,
     "metadata": {},
     "output_type": "execute_result"
    }
   ],
   "source": [
    "callPrice"
   ]
  },
  {
   "cell_type": "code",
   "execution_count": 84,
   "metadata": {},
   "outputs": [
    {
     "name": "stdout",
     "output_type": "stream",
     "text": [
      "This is a  C  B:  -53.804208592530095  delta:  0.7  price:  16.195791407469905\n"
     ]
    }
   ],
   "source": [
    "twoPeriod=singlePeriod(spot,strike,rate,exp,u,d,\"C\")"
   ]
  },
  {
   "cell_type": "code",
   "execution_count": 98,
   "metadata": {},
   "outputs": [
    {
     "name": "stdout",
     "output_type": "stream",
     "text": [
      "4\n",
      "3\n",
      "2\n",
      "1\n"
     ]
    }
   ],
   "source": [
    "list=[1,2,3,4]\n",
    "list=list[::-1]\n",
    "for x in list:\n",
    "    print(x)\n"
   ]
  },
  {
   "cell_type": "code",
   "execution_count": 92,
   "metadata": {},
   "outputs": [],
   "source": [
    "for y in range(int(calcReq)):\n",
    "    for x in range(n):\n",
    "        Cu=singlePeriod"
   ]
  },
  {
   "cell_type": "code",
   "execution_count": null,
   "metadata": {},
   "outputs": [],
   "source": [
    "n=2\n",
    "u=1.2\n",
    "d=.75\n",
    "s=100\n",
    "numbers=[]\n",
    "tree={}\n",
    "for x in range(n):\n",
    "    if x<1:\n",
    "        numbers.append(s*u)\n",
    "    else:\n",
    "        numbers.append(s*d)\n",
    "    \n"
   ]
  }
 ],
 "metadata": {
  "kernelspec": {
   "display_name": "Python 3",
   "language": "python",
   "name": "python3"
  },
  "language_info": {
   "codemirror_mode": {
    "name": "ipython",
    "version": 3
   },
   "file_extension": ".py",
   "mimetype": "text/x-python",
   "name": "python",
   "nbconvert_exporter": "python",
   "pygments_lexer": "ipython3",
   "version": "3.7.1"
  }
 },
 "nbformat": 4,
 "nbformat_minor": 2
}
